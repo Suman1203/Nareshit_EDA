{
 "cells": [
  {
   "cell_type": "code",
   "execution_count": 1,
   "id": "4a7bb1e5",
   "metadata": {},
   "outputs": [],
   "source": [
    "import pandas as pd\n",
    "import numpy as np"
   ]
  },
  {
   "cell_type": "code",
   "execution_count": 2,
   "id": "15f1e8b1",
   "metadata": {},
   "outputs": [],
   "source": [
    "dict1={'Names':['Ramesh','Suresh',np.nan,'Mahesh'],\n",
    "      'Age':[31,32,33,np.nan],\n",
    "      'City':[np.nan,'Hyd','Mumbai','Chennai']}"
   ]
  },
  {
   "cell_type": "code",
   "execution_count": 4,
   "id": "86f71f5f",
   "metadata": {},
   "outputs": [
    {
     "data": {
      "text/html": [
       "<div>\n",
       "<style scoped>\n",
       "    .dataframe tbody tr th:only-of-type {\n",
       "        vertical-align: middle;\n",
       "    }\n",
       "\n",
       "    .dataframe tbody tr th {\n",
       "        vertical-align: top;\n",
       "    }\n",
       "\n",
       "    .dataframe thead th {\n",
       "        text-align: right;\n",
       "    }\n",
       "</style>\n",
       "<table border=\"1\" class=\"dataframe\">\n",
       "  <thead>\n",
       "    <tr style=\"text-align: right;\">\n",
       "      <th></th>\n",
       "      <th>Names</th>\n",
       "      <th>Age</th>\n",
       "      <th>City</th>\n",
       "    </tr>\n",
       "  </thead>\n",
       "  <tbody>\n",
       "    <tr>\n",
       "      <th>0</th>\n",
       "      <td>Ramesh</td>\n",
       "      <td>31.0</td>\n",
       "      <td>NaN</td>\n",
       "    </tr>\n",
       "    <tr>\n",
       "      <th>1</th>\n",
       "      <td>Suresh</td>\n",
       "      <td>32.0</td>\n",
       "      <td>Hyd</td>\n",
       "    </tr>\n",
       "    <tr>\n",
       "      <th>2</th>\n",
       "      <td>NaN</td>\n",
       "      <td>33.0</td>\n",
       "      <td>Mumbai</td>\n",
       "    </tr>\n",
       "    <tr>\n",
       "      <th>3</th>\n",
       "      <td>Mahesh</td>\n",
       "      <td>NaN</td>\n",
       "      <td>Chennai</td>\n",
       "    </tr>\n",
       "  </tbody>\n",
       "</table>\n",
       "</div>"
      ],
      "text/plain": [
       "    Names   Age     City\n",
       "0  Ramesh  31.0      NaN\n",
       "1  Suresh  32.0      Hyd\n",
       "2     NaN  33.0   Mumbai\n",
       "3  Mahesh   NaN  Chennai"
      ]
     },
     "execution_count": 4,
     "metadata": {},
     "output_type": "execute_result"
    }
   ],
   "source": [
    "data1=pd.DataFrame(dict1)\n",
    "data1"
   ]
  },
  {
   "cell_type": "code",
   "execution_count": 6,
   "id": "b1fba07c",
   "metadata": {},
   "outputs": [
    {
     "data": {
      "text/html": [
       "<div>\n",
       "<style scoped>\n",
       "    .dataframe tbody tr th:only-of-type {\n",
       "        vertical-align: middle;\n",
       "    }\n",
       "\n",
       "    .dataframe tbody tr th {\n",
       "        vertical-align: top;\n",
       "    }\n",
       "\n",
       "    .dataframe thead th {\n",
       "        text-align: right;\n",
       "    }\n",
       "</style>\n",
       "<table border=\"1\" class=\"dataframe\">\n",
       "  <thead>\n",
       "    <tr style=\"text-align: right;\">\n",
       "      <th></th>\n",
       "      <th>Names</th>\n",
       "      <th>Age</th>\n",
       "      <th>City</th>\n",
       "    </tr>\n",
       "  </thead>\n",
       "  <tbody>\n",
       "    <tr>\n",
       "      <th>0</th>\n",
       "      <td>False</td>\n",
       "      <td>False</td>\n",
       "      <td>True</td>\n",
       "    </tr>\n",
       "    <tr>\n",
       "      <th>1</th>\n",
       "      <td>False</td>\n",
       "      <td>False</td>\n",
       "      <td>False</td>\n",
       "    </tr>\n",
       "    <tr>\n",
       "      <th>2</th>\n",
       "      <td>True</td>\n",
       "      <td>False</td>\n",
       "      <td>False</td>\n",
       "    </tr>\n",
       "    <tr>\n",
       "      <th>3</th>\n",
       "      <td>False</td>\n",
       "      <td>True</td>\n",
       "      <td>False</td>\n",
       "    </tr>\n",
       "  </tbody>\n",
       "</table>\n",
       "</div>"
      ],
      "text/plain": [
       "   Names    Age   City\n",
       "0  False  False   True\n",
       "1  False  False  False\n",
       "2   True  False  False\n",
       "3  False   True  False"
      ]
     },
     "execution_count": 6,
     "metadata": {},
     "output_type": "execute_result"
    }
   ],
   "source": [
    "data1.isnull()"
   ]
  },
  {
   "cell_type": "code",
   "execution_count": 7,
   "id": "ec0d6cfb",
   "metadata": {},
   "outputs": [
    {
     "data": {
      "text/plain": [
       "Names    1\n",
       "Age      1\n",
       "City     1\n",
       "dtype: int64"
      ]
     },
     "execution_count": 7,
     "metadata": {},
     "output_type": "execute_result"
    }
   ],
   "source": [
    "data1.isnull().sum()"
   ]
  },
  {
   "cell_type": "code",
   "execution_count": 8,
   "id": "8bab4d59",
   "metadata": {},
   "outputs": [
    {
     "data": {
      "text/plain": [
       "4"
      ]
     },
     "execution_count": 8,
     "metadata": {},
     "output_type": "execute_result"
    }
   ],
   "source": [
    "len(data1)"
   ]
  },
  {
   "cell_type": "code",
   "execution_count": 10,
   "id": "4a74da57",
   "metadata": {},
   "outputs": [
    {
     "data": {
      "text/plain": [
       "Names    0.25\n",
       "Age      0.25\n",
       "City     0.25\n",
       "dtype: float64"
      ]
     },
     "execution_count": 10,
     "metadata": {},
     "output_type": "execute_result"
    }
   ],
   "source": [
    "data1.isnull().sum()/len(data1)"
   ]
  },
  {
   "cell_type": "code",
   "execution_count": 11,
   "id": "0591b56e",
   "metadata": {},
   "outputs": [
    {
     "data": {
      "text/plain": [
       "Names    25.0\n",
       "Age      25.0\n",
       "City     25.0\n",
       "dtype: float64"
      ]
     },
     "execution_count": 11,
     "metadata": {},
     "output_type": "execute_result"
    }
   ],
   "source": [
    "data1.isnull().sum()*(100/len(data1))"
   ]
  },
  {
   "cell_type": "code",
   "execution_count": 12,
   "id": "9b1260b5",
   "metadata": {},
   "outputs": [
    {
     "data": {
      "text/html": [
       "<div>\n",
       "<style scoped>\n",
       "    .dataframe tbody tr th:only-of-type {\n",
       "        vertical-align: middle;\n",
       "    }\n",
       "\n",
       "    .dataframe tbody tr th {\n",
       "        vertical-align: top;\n",
       "    }\n",
       "\n",
       "    .dataframe thead th {\n",
       "        text-align: right;\n",
       "    }\n",
       "</style>\n",
       "<table border=\"1\" class=\"dataframe\">\n",
       "  <thead>\n",
       "    <tr style=\"text-align: right;\">\n",
       "      <th></th>\n",
       "      <th>Names</th>\n",
       "      <th>Age</th>\n",
       "      <th>City</th>\n",
       "    </tr>\n",
       "  </thead>\n",
       "  <tbody>\n",
       "    <tr>\n",
       "      <th>0</th>\n",
       "      <td>Ramesh</td>\n",
       "      <td>31.0</td>\n",
       "      <td>None</td>\n",
       "    </tr>\n",
       "    <tr>\n",
       "      <th>1</th>\n",
       "      <td>Suresh</td>\n",
       "      <td>32.0</td>\n",
       "      <td>Hyd</td>\n",
       "    </tr>\n",
       "    <tr>\n",
       "      <th>2</th>\n",
       "      <td>None</td>\n",
       "      <td>33.0</td>\n",
       "      <td>Mumbai</td>\n",
       "    </tr>\n",
       "    <tr>\n",
       "      <th>3</th>\n",
       "      <td>Mahesh</td>\n",
       "      <td>NaN</td>\n",
       "      <td>Chennai</td>\n",
       "    </tr>\n",
       "  </tbody>\n",
       "</table>\n",
       "</div>"
      ],
      "text/plain": [
       "    Names   Age     City\n",
       "0  Ramesh  31.0     None\n",
       "1  Suresh  32.0      Hyd\n",
       "2    None  33.0   Mumbai\n",
       "3  Mahesh   NaN  Chennai"
      ]
     },
     "execution_count": 12,
     "metadata": {},
     "output_type": "execute_result"
    }
   ],
   "source": [
    "dict2={'Names':['Ramesh','Suresh',None,'Mahesh'],\n",
    "      'Age':[31,32,33,None],\n",
    "      'City':[None,'Hyd','Mumbai','Chennai']}\n",
    "data2=pd.DataFrame(dict2)\n",
    "data2"
   ]
  },
  {
   "cell_type": "code",
   "execution_count": 13,
   "id": "31b6fff1",
   "metadata": {},
   "outputs": [
    {
     "data": {
      "text/html": [
       "<div>\n",
       "<style scoped>\n",
       "    .dataframe tbody tr th:only-of-type {\n",
       "        vertical-align: middle;\n",
       "    }\n",
       "\n",
       "    .dataframe tbody tr th {\n",
       "        vertical-align: top;\n",
       "    }\n",
       "\n",
       "    .dataframe thead th {\n",
       "        text-align: right;\n",
       "    }\n",
       "</style>\n",
       "<table border=\"1\" class=\"dataframe\">\n",
       "  <thead>\n",
       "    <tr style=\"text-align: right;\">\n",
       "      <th></th>\n",
       "      <th>Names</th>\n",
       "      <th>Age</th>\n",
       "      <th>City</th>\n",
       "    </tr>\n",
       "  </thead>\n",
       "  <tbody>\n",
       "    <tr>\n",
       "      <th>0</th>\n",
       "      <td>False</td>\n",
       "      <td>False</td>\n",
       "      <td>True</td>\n",
       "    </tr>\n",
       "    <tr>\n",
       "      <th>1</th>\n",
       "      <td>False</td>\n",
       "      <td>False</td>\n",
       "      <td>False</td>\n",
       "    </tr>\n",
       "    <tr>\n",
       "      <th>2</th>\n",
       "      <td>True</td>\n",
       "      <td>False</td>\n",
       "      <td>False</td>\n",
       "    </tr>\n",
       "    <tr>\n",
       "      <th>3</th>\n",
       "      <td>False</td>\n",
       "      <td>True</td>\n",
       "      <td>False</td>\n",
       "    </tr>\n",
       "  </tbody>\n",
       "</table>\n",
       "</div>"
      ],
      "text/plain": [
       "   Names    Age   City\n",
       "0  False  False   True\n",
       "1  False  False  False\n",
       "2   True  False  False\n",
       "3  False   True  False"
      ]
     },
     "execution_count": 13,
     "metadata": {},
     "output_type": "execute_result"
    }
   ],
   "source": [
    "data2.isnull()"
   ]
  },
  {
   "cell_type": "code",
   "execution_count": 14,
   "id": "60b8c2f8",
   "metadata": {},
   "outputs": [
    {
     "data": {
      "text/plain": [
       "Names    1\n",
       "Age      1\n",
       "City     1\n",
       "dtype: int64"
      ]
     },
     "execution_count": 14,
     "metadata": {},
     "output_type": "execute_result"
    }
   ],
   "source": [
    "data2.isnull().sum()"
   ]
  },
  {
   "cell_type": "code",
   "execution_count": 15,
   "id": "4af34f66",
   "metadata": {},
   "outputs": [
    {
     "data": {
      "text/html": [
       "<div>\n",
       "<style scoped>\n",
       "    .dataframe tbody tr th:only-of-type {\n",
       "        vertical-align: middle;\n",
       "    }\n",
       "\n",
       "    .dataframe tbody tr th {\n",
       "        vertical-align: top;\n",
       "    }\n",
       "\n",
       "    .dataframe thead th {\n",
       "        text-align: right;\n",
       "    }\n",
       "</style>\n",
       "<table border=\"1\" class=\"dataframe\">\n",
       "  <thead>\n",
       "    <tr style=\"text-align: right;\">\n",
       "      <th></th>\n",
       "      <th>Names</th>\n",
       "      <th>Age</th>\n",
       "      <th>City</th>\n",
       "    </tr>\n",
       "  </thead>\n",
       "  <tbody>\n",
       "    <tr>\n",
       "      <th>0</th>\n",
       "      <td>Ramesh</td>\n",
       "      <td>31</td>\n",
       "      <td>Null</td>\n",
       "    </tr>\n",
       "    <tr>\n",
       "      <th>1</th>\n",
       "      <td>Suresh</td>\n",
       "      <td>32</td>\n",
       "      <td>Hyd</td>\n",
       "    </tr>\n",
       "    <tr>\n",
       "      <th>2</th>\n",
       "      <td>Null</td>\n",
       "      <td>33</td>\n",
       "      <td>Mumbai</td>\n",
       "    </tr>\n",
       "    <tr>\n",
       "      <th>3</th>\n",
       "      <td>Mahesh</td>\n",
       "      <td>Null</td>\n",
       "      <td>Chennai</td>\n",
       "    </tr>\n",
       "  </tbody>\n",
       "</table>\n",
       "</div>"
      ],
      "text/plain": [
       "    Names   Age     City\n",
       "0  Ramesh    31     Null\n",
       "1  Suresh    32      Hyd\n",
       "2    Null    33   Mumbai\n",
       "3  Mahesh  Null  Chennai"
      ]
     },
     "execution_count": 15,
     "metadata": {},
     "output_type": "execute_result"
    }
   ],
   "source": [
    "dict3={'Names':['Ramesh','Suresh','Null','Mahesh'],\n",
    "      'Age':[31,32,33,'Null'],\n",
    "      'City':['Null','Hyd','Mumbai','Chennai']}\n",
    "data3=pd.DataFrame(dict3)\n",
    "data3"
   ]
  },
  {
   "cell_type": "markdown",
   "id": "9833eb6a",
   "metadata": {},
   "source": [
    "**Method-1**\n",
    "\n",
    ">Fill the missing values with random number\n",
    "\n",
    "dataframe name= data1\n",
    "\n",
    "method name:fillna"
   ]
  },
  {
   "cell_type": "code",
   "execution_count": 17,
   "id": "3071b949",
   "metadata": {},
   "outputs": [
    {
     "data": {
      "text/html": [
       "<div>\n",
       "<style scoped>\n",
       "    .dataframe tbody tr th:only-of-type {\n",
       "        vertical-align: middle;\n",
       "    }\n",
       "\n",
       "    .dataframe tbody tr th {\n",
       "        vertical-align: top;\n",
       "    }\n",
       "\n",
       "    .dataframe thead th {\n",
       "        text-align: right;\n",
       "    }\n",
       "</style>\n",
       "<table border=\"1\" class=\"dataframe\">\n",
       "  <thead>\n",
       "    <tr style=\"text-align: right;\">\n",
       "      <th></th>\n",
       "      <th>Names</th>\n",
       "      <th>Age</th>\n",
       "      <th>City</th>\n",
       "    </tr>\n",
       "  </thead>\n",
       "  <tbody>\n",
       "    <tr>\n",
       "      <th>0</th>\n",
       "      <td>Ramesh</td>\n",
       "      <td>31.0</td>\n",
       "      <td>40</td>\n",
       "    </tr>\n",
       "    <tr>\n",
       "      <th>1</th>\n",
       "      <td>Suresh</td>\n",
       "      <td>32.0</td>\n",
       "      <td>Hyd</td>\n",
       "    </tr>\n",
       "    <tr>\n",
       "      <th>2</th>\n",
       "      <td>40</td>\n",
       "      <td>33.0</td>\n",
       "      <td>Mumbai</td>\n",
       "    </tr>\n",
       "    <tr>\n",
       "      <th>3</th>\n",
       "      <td>Mahesh</td>\n",
       "      <td>40.0</td>\n",
       "      <td>Chennai</td>\n",
       "    </tr>\n",
       "  </tbody>\n",
       "</table>\n",
       "</div>"
      ],
      "text/plain": [
       "    Names   Age     City\n",
       "0  Ramesh  31.0       40\n",
       "1  Suresh  32.0      Hyd\n",
       "2      40  33.0   Mumbai\n",
       "3  Mahesh  40.0  Chennai"
      ]
     },
     "execution_count": 17,
     "metadata": {},
     "output_type": "execute_result"
    }
   ],
   "source": [
    "data1.fillna(40)"
   ]
  },
  {
   "cell_type": "markdown",
   "id": "d0387444",
   "metadata": {},
   "source": [
    "**Method-2**\n",
    "\n",
    ">Fill the missing values with random number on specific column\n",
    "\n",
    "dataframe name= data1\n",
    "\n",
    "method name:fillna"
   ]
  },
  {
   "cell_type": "code",
   "execution_count": 20,
   "id": "2ec75269",
   "metadata": {},
   "outputs": [],
   "source": [
    "data1['Names'].fillna('sathish',inplace=True)"
   ]
  },
  {
   "cell_type": "code",
   "execution_count": 21,
   "id": "be252aff",
   "metadata": {},
   "outputs": [
    {
     "data": {
      "text/html": [
       "<div>\n",
       "<style scoped>\n",
       "    .dataframe tbody tr th:only-of-type {\n",
       "        vertical-align: middle;\n",
       "    }\n",
       "\n",
       "    .dataframe tbody tr th {\n",
       "        vertical-align: top;\n",
       "    }\n",
       "\n",
       "    .dataframe thead th {\n",
       "        text-align: right;\n",
       "    }\n",
       "</style>\n",
       "<table border=\"1\" class=\"dataframe\">\n",
       "  <thead>\n",
       "    <tr style=\"text-align: right;\">\n",
       "      <th></th>\n",
       "      <th>Names</th>\n",
       "      <th>Age</th>\n",
       "      <th>City</th>\n",
       "    </tr>\n",
       "  </thead>\n",
       "  <tbody>\n",
       "    <tr>\n",
       "      <th>0</th>\n",
       "      <td>Ramesh</td>\n",
       "      <td>31.0</td>\n",
       "      <td>NaN</td>\n",
       "    </tr>\n",
       "    <tr>\n",
       "      <th>1</th>\n",
       "      <td>Suresh</td>\n",
       "      <td>32.0</td>\n",
       "      <td>Hyd</td>\n",
       "    </tr>\n",
       "    <tr>\n",
       "      <th>2</th>\n",
       "      <td>sathish</td>\n",
       "      <td>33.0</td>\n",
       "      <td>Mumbai</td>\n",
       "    </tr>\n",
       "    <tr>\n",
       "      <th>3</th>\n",
       "      <td>Mahesh</td>\n",
       "      <td>NaN</td>\n",
       "      <td>Chennai</td>\n",
       "    </tr>\n",
       "  </tbody>\n",
       "</table>\n",
       "</div>"
      ],
      "text/plain": [
       "     Names   Age     City\n",
       "0   Ramesh  31.0      NaN\n",
       "1   Suresh  32.0      Hyd\n",
       "2  sathish  33.0   Mumbai\n",
       "3   Mahesh   NaN  Chennai"
      ]
     },
     "execution_count": 21,
     "metadata": {},
     "output_type": "execute_result"
    }
   ],
   "source": [
    "data1"
   ]
  },
  {
   "cell_type": "code",
   "execution_count": 23,
   "id": "88d51021",
   "metadata": {},
   "outputs": [
    {
     "data": {
      "text/html": [
       "<div>\n",
       "<style scoped>\n",
       "    .dataframe tbody tr th:only-of-type {\n",
       "        vertical-align: middle;\n",
       "    }\n",
       "\n",
       "    .dataframe tbody tr th {\n",
       "        vertical-align: top;\n",
       "    }\n",
       "\n",
       "    .dataframe thead th {\n",
       "        text-align: right;\n",
       "    }\n",
       "</style>\n",
       "<table border=\"1\" class=\"dataframe\">\n",
       "  <thead>\n",
       "    <tr style=\"text-align: right;\">\n",
       "      <th></th>\n",
       "      <th>Names</th>\n",
       "      <th>Age</th>\n",
       "      <th>City</th>\n",
       "    </tr>\n",
       "  </thead>\n",
       "  <tbody>\n",
       "    <tr>\n",
       "      <th>0</th>\n",
       "      <td>Ramesh</td>\n",
       "      <td>31.0</td>\n",
       "      <td>NaN</td>\n",
       "    </tr>\n",
       "    <tr>\n",
       "      <th>1</th>\n",
       "      <td>Suresh</td>\n",
       "      <td>32.0</td>\n",
       "      <td>Hyd</td>\n",
       "    </tr>\n",
       "    <tr>\n",
       "      <th>2</th>\n",
       "      <td>NaN</td>\n",
       "      <td>33.0</td>\n",
       "      <td>Mumbai</td>\n",
       "    </tr>\n",
       "    <tr>\n",
       "      <th>3</th>\n",
       "      <td>Mahesh</td>\n",
       "      <td>NaN</td>\n",
       "      <td>Chennai</td>\n",
       "    </tr>\n",
       "  </tbody>\n",
       "</table>\n",
       "</div>"
      ],
      "text/plain": [
       "    Names   Age     City\n",
       "0  Ramesh  31.0      NaN\n",
       "1  Suresh  32.0      Hyd\n",
       "2     NaN  33.0   Mumbai\n",
       "3  Mahesh   NaN  Chennai"
      ]
     },
     "execution_count": 23,
     "metadata": {},
     "output_type": "execute_result"
    }
   ],
   "source": [
    "#Create the data again\n",
    "dict1={'Names':['Ramesh','Suresh',np.nan,'Mahesh'],\n",
    "      'Age':[31,32,33,np.nan],\n",
    "      'City':[np.nan,'Hyd','Mumbai','Chennai']}\n",
    "data1=pd.DataFrame(dict1)\n",
    "data1"
   ]
  },
  {
   "cell_type": "markdown",
   "id": "32f3f6d7",
   "metadata": {},
   "source": [
    "**Method-3**\n",
    "\n",
    "- bfill\n",
    "\n",
    "- ffill\n",
    "\n",
    "- pad\n",
    "\n",
    "- backfill"
   ]
  },
  {
   "cell_type": "code",
   "execution_count": 24,
   "id": "84657030",
   "metadata": {},
   "outputs": [
    {
     "data": {
      "text/html": [
       "<div>\n",
       "<style scoped>\n",
       "    .dataframe tbody tr th:only-of-type {\n",
       "        vertical-align: middle;\n",
       "    }\n",
       "\n",
       "    .dataframe tbody tr th {\n",
       "        vertical-align: top;\n",
       "    }\n",
       "\n",
       "    .dataframe thead th {\n",
       "        text-align: right;\n",
       "    }\n",
       "</style>\n",
       "<table border=\"1\" class=\"dataframe\">\n",
       "  <thead>\n",
       "    <tr style=\"text-align: right;\">\n",
       "      <th></th>\n",
       "      <th>Names</th>\n",
       "      <th>Age</th>\n",
       "      <th>City</th>\n",
       "    </tr>\n",
       "  </thead>\n",
       "  <tbody>\n",
       "    <tr>\n",
       "      <th>0</th>\n",
       "      <td>Ramesh</td>\n",
       "      <td>31.0</td>\n",
       "      <td>Hyd</td>\n",
       "    </tr>\n",
       "    <tr>\n",
       "      <th>1</th>\n",
       "      <td>Suresh</td>\n",
       "      <td>32.0</td>\n",
       "      <td>Hyd</td>\n",
       "    </tr>\n",
       "    <tr>\n",
       "      <th>2</th>\n",
       "      <td>Mahesh</td>\n",
       "      <td>33.0</td>\n",
       "      <td>Mumbai</td>\n",
       "    </tr>\n",
       "    <tr>\n",
       "      <th>3</th>\n",
       "      <td>Mahesh</td>\n",
       "      <td>NaN</td>\n",
       "      <td>Chennai</td>\n",
       "    </tr>\n",
       "  </tbody>\n",
       "</table>\n",
       "</div>"
      ],
      "text/plain": [
       "    Names   Age     City\n",
       "0  Ramesh  31.0      Hyd\n",
       "1  Suresh  32.0      Hyd\n",
       "2  Mahesh  33.0   Mumbai\n",
       "3  Mahesh   NaN  Chennai"
      ]
     },
     "execution_count": 24,
     "metadata": {},
     "output_type": "execute_result"
    }
   ],
   "source": [
    "data1.fillna(method='backfill')\n",
    "# Names  index 2 has missed value\n",
    "#        it will replace by index 3 value\n",
    "#Age  index 3 has missed value\n",
    "#     we dont have index 4, so the value is NaN\n",
    "# City index 0 has missed value\n",
    "#      it replace with index 1 value"
   ]
  },
  {
   "cell_type": "code",
   "execution_count": 25,
   "id": "e826ef13",
   "metadata": {},
   "outputs": [
    {
     "data": {
      "text/html": [
       "<div>\n",
       "<style scoped>\n",
       "    .dataframe tbody tr th:only-of-type {\n",
       "        vertical-align: middle;\n",
       "    }\n",
       "\n",
       "    .dataframe tbody tr th {\n",
       "        vertical-align: top;\n",
       "    }\n",
       "\n",
       "    .dataframe thead th {\n",
       "        text-align: right;\n",
       "    }\n",
       "</style>\n",
       "<table border=\"1\" class=\"dataframe\">\n",
       "  <thead>\n",
       "    <tr style=\"text-align: right;\">\n",
       "      <th></th>\n",
       "      <th>Names</th>\n",
       "      <th>Age</th>\n",
       "      <th>City</th>\n",
       "    </tr>\n",
       "  </thead>\n",
       "  <tbody>\n",
       "    <tr>\n",
       "      <th>0</th>\n",
       "      <td>Ramesh</td>\n",
       "      <td>31.0</td>\n",
       "      <td>NaN</td>\n",
       "    </tr>\n",
       "    <tr>\n",
       "      <th>1</th>\n",
       "      <td>Suresh</td>\n",
       "      <td>32.0</td>\n",
       "      <td>Hyd</td>\n",
       "    </tr>\n",
       "    <tr>\n",
       "      <th>2</th>\n",
       "      <td>NaN</td>\n",
       "      <td>33.0</td>\n",
       "      <td>Mumbai</td>\n",
       "    </tr>\n",
       "    <tr>\n",
       "      <th>3</th>\n",
       "      <td>Mahesh</td>\n",
       "      <td>NaN</td>\n",
       "      <td>Chennai</td>\n",
       "    </tr>\n",
       "  </tbody>\n",
       "</table>\n",
       "</div>"
      ],
      "text/plain": [
       "    Names   Age     City\n",
       "0  Ramesh  31.0      NaN\n",
       "1  Suresh  32.0      Hyd\n",
       "2     NaN  33.0   Mumbai\n",
       "3  Mahesh   NaN  Chennai"
      ]
     },
     "execution_count": 25,
     "metadata": {},
     "output_type": "execute_result"
    }
   ],
   "source": [
    "#Create the data again\n",
    "dict1={'Names':['Ramesh','Suresh',np.nan,'Mahesh'],\n",
    "      'Age':[31,32,33,np.nan],\n",
    "      'City':[np.nan,'Hyd','Mumbai','Chennai']}\n",
    "data1=pd.DataFrame(dict1)\n",
    "data1"
   ]
  },
  {
   "cell_type": "code",
   "execution_count": 26,
   "id": "cf865913",
   "metadata": {},
   "outputs": [
    {
     "data": {
      "text/html": [
       "<div>\n",
       "<style scoped>\n",
       "    .dataframe tbody tr th:only-of-type {\n",
       "        vertical-align: middle;\n",
       "    }\n",
       "\n",
       "    .dataframe tbody tr th {\n",
       "        vertical-align: top;\n",
       "    }\n",
       "\n",
       "    .dataframe thead th {\n",
       "        text-align: right;\n",
       "    }\n",
       "</style>\n",
       "<table border=\"1\" class=\"dataframe\">\n",
       "  <thead>\n",
       "    <tr style=\"text-align: right;\">\n",
       "      <th></th>\n",
       "      <th>Names</th>\n",
       "      <th>Age</th>\n",
       "      <th>City</th>\n",
       "    </tr>\n",
       "  </thead>\n",
       "  <tbody>\n",
       "    <tr>\n",
       "      <th>0</th>\n",
       "      <td>Ramesh</td>\n",
       "      <td>31.0</td>\n",
       "      <td>Hyd</td>\n",
       "    </tr>\n",
       "    <tr>\n",
       "      <th>1</th>\n",
       "      <td>Suresh</td>\n",
       "      <td>32.0</td>\n",
       "      <td>Hyd</td>\n",
       "    </tr>\n",
       "    <tr>\n",
       "      <th>2</th>\n",
       "      <td>Mahesh</td>\n",
       "      <td>33.0</td>\n",
       "      <td>Mumbai</td>\n",
       "    </tr>\n",
       "    <tr>\n",
       "      <th>3</th>\n",
       "      <td>Mahesh</td>\n",
       "      <td>NaN</td>\n",
       "      <td>Chennai</td>\n",
       "    </tr>\n",
       "  </tbody>\n",
       "</table>\n",
       "</div>"
      ],
      "text/plain": [
       "    Names   Age     City\n",
       "0  Ramesh  31.0      Hyd\n",
       "1  Suresh  32.0      Hyd\n",
       "2  Mahesh  33.0   Mumbai\n",
       "3  Mahesh   NaN  Chennai"
      ]
     },
     "execution_count": 26,
     "metadata": {},
     "output_type": "execute_result"
    }
   ],
   "source": [
    "data1.fillna(method='backfill')"
   ]
  },
  {
   "cell_type": "code",
   "execution_count": 27,
   "id": "591bb7c0",
   "metadata": {},
   "outputs": [
    {
     "data": {
      "text/html": [
       "<div>\n",
       "<style scoped>\n",
       "    .dataframe tbody tr th:only-of-type {\n",
       "        vertical-align: middle;\n",
       "    }\n",
       "\n",
       "    .dataframe tbody tr th {\n",
       "        vertical-align: top;\n",
       "    }\n",
       "\n",
       "    .dataframe thead th {\n",
       "        text-align: right;\n",
       "    }\n",
       "</style>\n",
       "<table border=\"1\" class=\"dataframe\">\n",
       "  <thead>\n",
       "    <tr style=\"text-align: right;\">\n",
       "      <th></th>\n",
       "      <th>Names</th>\n",
       "      <th>Age</th>\n",
       "      <th>City</th>\n",
       "    </tr>\n",
       "  </thead>\n",
       "  <tbody>\n",
       "    <tr>\n",
       "      <th>0</th>\n",
       "      <td>Ramesh</td>\n",
       "      <td>31.0</td>\n",
       "      <td>NaN</td>\n",
       "    </tr>\n",
       "    <tr>\n",
       "      <th>1</th>\n",
       "      <td>Suresh</td>\n",
       "      <td>32.0</td>\n",
       "      <td>Hyd</td>\n",
       "    </tr>\n",
       "    <tr>\n",
       "      <th>2</th>\n",
       "      <td>NaN</td>\n",
       "      <td>33.0</td>\n",
       "      <td>Mumbai</td>\n",
       "    </tr>\n",
       "    <tr>\n",
       "      <th>3</th>\n",
       "      <td>Mahesh</td>\n",
       "      <td>NaN</td>\n",
       "      <td>Chennai</td>\n",
       "    </tr>\n",
       "  </tbody>\n",
       "</table>\n",
       "</div>"
      ],
      "text/plain": [
       "    Names   Age     City\n",
       "0  Ramesh  31.0      NaN\n",
       "1  Suresh  32.0      Hyd\n",
       "2     NaN  33.0   Mumbai\n",
       "3  Mahesh   NaN  Chennai"
      ]
     },
     "execution_count": 27,
     "metadata": {},
     "output_type": "execute_result"
    }
   ],
   "source": [
    "#Create the data again\n",
    "dict1={'Names':['Ramesh','Suresh',np.nan,'Mahesh'],\n",
    "      'Age':[31,32,33,np.nan],\n",
    "      'City':[np.nan,'Hyd','Mumbai','Chennai']}\n",
    "data1=pd.DataFrame(dict1)\n",
    "data1"
   ]
  },
  {
   "cell_type": "code",
   "execution_count": 28,
   "id": "17c59f35",
   "metadata": {},
   "outputs": [
    {
     "data": {
      "text/html": [
       "<div>\n",
       "<style scoped>\n",
       "    .dataframe tbody tr th:only-of-type {\n",
       "        vertical-align: middle;\n",
       "    }\n",
       "\n",
       "    .dataframe tbody tr th {\n",
       "        vertical-align: top;\n",
       "    }\n",
       "\n",
       "    .dataframe thead th {\n",
       "        text-align: right;\n",
       "    }\n",
       "</style>\n",
       "<table border=\"1\" class=\"dataframe\">\n",
       "  <thead>\n",
       "    <tr style=\"text-align: right;\">\n",
       "      <th></th>\n",
       "      <th>Names</th>\n",
       "      <th>Age</th>\n",
       "      <th>City</th>\n",
       "    </tr>\n",
       "  </thead>\n",
       "  <tbody>\n",
       "    <tr>\n",
       "      <th>0</th>\n",
       "      <td>Ramesh</td>\n",
       "      <td>31.0</td>\n",
       "      <td>NaN</td>\n",
       "    </tr>\n",
       "    <tr>\n",
       "      <th>1</th>\n",
       "      <td>Suresh</td>\n",
       "      <td>32.0</td>\n",
       "      <td>Hyd</td>\n",
       "    </tr>\n",
       "    <tr>\n",
       "      <th>2</th>\n",
       "      <td>Suresh</td>\n",
       "      <td>33.0</td>\n",
       "      <td>Mumbai</td>\n",
       "    </tr>\n",
       "    <tr>\n",
       "      <th>3</th>\n",
       "      <td>Mahesh</td>\n",
       "      <td>33.0</td>\n",
       "      <td>Chennai</td>\n",
       "    </tr>\n",
       "  </tbody>\n",
       "</table>\n",
       "</div>"
      ],
      "text/plain": [
       "    Names   Age     City\n",
       "0  Ramesh  31.0      NaN\n",
       "1  Suresh  32.0      Hyd\n",
       "2  Suresh  33.0   Mumbai\n",
       "3  Mahesh  33.0  Chennai"
      ]
     },
     "execution_count": 28,
     "metadata": {},
     "output_type": "execute_result"
    }
   ],
   "source": [
    "data1.fillna(method='ffill')"
   ]
  },
  {
   "cell_type": "code",
   "execution_count": 29,
   "id": "1b248028",
   "metadata": {},
   "outputs": [
    {
     "data": {
      "text/html": [
       "<div>\n",
       "<style scoped>\n",
       "    .dataframe tbody tr th:only-of-type {\n",
       "        vertical-align: middle;\n",
       "    }\n",
       "\n",
       "    .dataframe tbody tr th {\n",
       "        vertical-align: top;\n",
       "    }\n",
       "\n",
       "    .dataframe thead th {\n",
       "        text-align: right;\n",
       "    }\n",
       "</style>\n",
       "<table border=\"1\" class=\"dataframe\">\n",
       "  <thead>\n",
       "    <tr style=\"text-align: right;\">\n",
       "      <th></th>\n",
       "      <th>Names</th>\n",
       "      <th>Age</th>\n",
       "      <th>City</th>\n",
       "    </tr>\n",
       "  </thead>\n",
       "  <tbody>\n",
       "    <tr>\n",
       "      <th>0</th>\n",
       "      <td>Ramesh</td>\n",
       "      <td>31.0</td>\n",
       "      <td>NaN</td>\n",
       "    </tr>\n",
       "    <tr>\n",
       "      <th>1</th>\n",
       "      <td>Suresh</td>\n",
       "      <td>32.0</td>\n",
       "      <td>Hyd</td>\n",
       "    </tr>\n",
       "    <tr>\n",
       "      <th>2</th>\n",
       "      <td>NaN</td>\n",
       "      <td>33.0</td>\n",
       "      <td>Mumbai</td>\n",
       "    </tr>\n",
       "    <tr>\n",
       "      <th>3</th>\n",
       "      <td>Mahesh</td>\n",
       "      <td>NaN</td>\n",
       "      <td>Chennai</td>\n",
       "    </tr>\n",
       "  </tbody>\n",
       "</table>\n",
       "</div>"
      ],
      "text/plain": [
       "    Names   Age     City\n",
       "0  Ramesh  31.0      NaN\n",
       "1  Suresh  32.0      Hyd\n",
       "2     NaN  33.0   Mumbai\n",
       "3  Mahesh   NaN  Chennai"
      ]
     },
     "execution_count": 29,
     "metadata": {},
     "output_type": "execute_result"
    }
   ],
   "source": [
    "#Create the data again\n",
    "dict1={'Names':['Ramesh','Suresh',np.nan,'Mahesh'],\n",
    "      'Age':[31,32,33,np.nan],\n",
    "      'City':[np.nan,'Hyd','Mumbai','Chennai']}\n",
    "data1=pd.DataFrame(dict1)\n",
    "data1"
   ]
  },
  {
   "cell_type": "code",
   "execution_count": 30,
   "id": "9809b6b7",
   "metadata": {},
   "outputs": [
    {
     "data": {
      "text/html": [
       "<div>\n",
       "<style scoped>\n",
       "    .dataframe tbody tr th:only-of-type {\n",
       "        vertical-align: middle;\n",
       "    }\n",
       "\n",
       "    .dataframe tbody tr th {\n",
       "        vertical-align: top;\n",
       "    }\n",
       "\n",
       "    .dataframe thead th {\n",
       "        text-align: right;\n",
       "    }\n",
       "</style>\n",
       "<table border=\"1\" class=\"dataframe\">\n",
       "  <thead>\n",
       "    <tr style=\"text-align: right;\">\n",
       "      <th></th>\n",
       "      <th>Names</th>\n",
       "      <th>Age</th>\n",
       "      <th>City</th>\n",
       "    </tr>\n",
       "  </thead>\n",
       "  <tbody>\n",
       "    <tr>\n",
       "      <th>0</th>\n",
       "      <td>Ramesh</td>\n",
       "      <td>31.0</td>\n",
       "      <td>NaN</td>\n",
       "    </tr>\n",
       "    <tr>\n",
       "      <th>1</th>\n",
       "      <td>Suresh</td>\n",
       "      <td>32.0</td>\n",
       "      <td>Hyd</td>\n",
       "    </tr>\n",
       "    <tr>\n",
       "      <th>2</th>\n",
       "      <td>Suresh</td>\n",
       "      <td>33.0</td>\n",
       "      <td>Mumbai</td>\n",
       "    </tr>\n",
       "    <tr>\n",
       "      <th>3</th>\n",
       "      <td>Mahesh</td>\n",
       "      <td>33.0</td>\n",
       "      <td>Chennai</td>\n",
       "    </tr>\n",
       "  </tbody>\n",
       "</table>\n",
       "</div>"
      ],
      "text/plain": [
       "    Names   Age     City\n",
       "0  Ramesh  31.0      NaN\n",
       "1  Suresh  32.0      Hyd\n",
       "2  Suresh  33.0   Mumbai\n",
       "3  Mahesh  33.0  Chennai"
      ]
     },
     "execution_count": 30,
     "metadata": {},
     "output_type": "execute_result"
    }
   ],
   "source": [
    "data1.fillna(method='pad')"
   ]
  },
  {
   "cell_type": "markdown",
   "id": "9be68831",
   "metadata": {},
   "source": [
    "**Method-4**\n",
    "\n",
    "- Mean\n",
    "\n",
    "- Median\n",
    "\n",
    "- Mode"
   ]
  },
  {
   "cell_type": "code",
   "execution_count": 31,
   "id": "8a41c632",
   "metadata": {},
   "outputs": [
    {
     "data": {
      "text/html": [
       "<div>\n",
       "<style scoped>\n",
       "    .dataframe tbody tr th:only-of-type {\n",
       "        vertical-align: middle;\n",
       "    }\n",
       "\n",
       "    .dataframe tbody tr th {\n",
       "        vertical-align: top;\n",
       "    }\n",
       "\n",
       "    .dataframe thead th {\n",
       "        text-align: right;\n",
       "    }\n",
       "</style>\n",
       "<table border=\"1\" class=\"dataframe\">\n",
       "  <thead>\n",
       "    <tr style=\"text-align: right;\">\n",
       "      <th></th>\n",
       "      <th>Names</th>\n",
       "      <th>Age</th>\n",
       "      <th>City</th>\n",
       "    </tr>\n",
       "  </thead>\n",
       "  <tbody>\n",
       "    <tr>\n",
       "      <th>0</th>\n",
       "      <td>Ramesh</td>\n",
       "      <td>31.0</td>\n",
       "      <td>NaN</td>\n",
       "    </tr>\n",
       "    <tr>\n",
       "      <th>1</th>\n",
       "      <td>Suresh</td>\n",
       "      <td>32.0</td>\n",
       "      <td>Hyd</td>\n",
       "    </tr>\n",
       "    <tr>\n",
       "      <th>2</th>\n",
       "      <td>NaN</td>\n",
       "      <td>33.0</td>\n",
       "      <td>Mumbai</td>\n",
       "    </tr>\n",
       "    <tr>\n",
       "      <th>3</th>\n",
       "      <td>Mahesh</td>\n",
       "      <td>NaN</td>\n",
       "      <td>Chennai</td>\n",
       "    </tr>\n",
       "  </tbody>\n",
       "</table>\n",
       "</div>"
      ],
      "text/plain": [
       "    Names   Age     City\n",
       "0  Ramesh  31.0      NaN\n",
       "1  Suresh  32.0      Hyd\n",
       "2     NaN  33.0   Mumbai\n",
       "3  Mahesh   NaN  Chennai"
      ]
     },
     "execution_count": 31,
     "metadata": {},
     "output_type": "execute_result"
    }
   ],
   "source": [
    "data1"
   ]
  },
  {
   "cell_type": "code",
   "execution_count": 32,
   "id": "65f75f77",
   "metadata": {},
   "outputs": [],
   "source": [
    "age_mean=data1['Age'].mean()"
   ]
  },
  {
   "cell_type": "code",
   "execution_count": 34,
   "id": "2a0c00e4",
   "metadata": {},
   "outputs": [
    {
     "data": {
      "text/html": [
       "<div>\n",
       "<style scoped>\n",
       "    .dataframe tbody tr th:only-of-type {\n",
       "        vertical-align: middle;\n",
       "    }\n",
       "\n",
       "    .dataframe tbody tr th {\n",
       "        vertical-align: top;\n",
       "    }\n",
       "\n",
       "    .dataframe thead th {\n",
       "        text-align: right;\n",
       "    }\n",
       "</style>\n",
       "<table border=\"1\" class=\"dataframe\">\n",
       "  <thead>\n",
       "    <tr style=\"text-align: right;\">\n",
       "      <th></th>\n",
       "      <th>Names</th>\n",
       "      <th>Age</th>\n",
       "      <th>City</th>\n",
       "    </tr>\n",
       "  </thead>\n",
       "  <tbody>\n",
       "    <tr>\n",
       "      <th>0</th>\n",
       "      <td>Ramesh</td>\n",
       "      <td>31.0</td>\n",
       "      <td>NaN</td>\n",
       "    </tr>\n",
       "    <tr>\n",
       "      <th>1</th>\n",
       "      <td>Suresh</td>\n",
       "      <td>32.0</td>\n",
       "      <td>Hyd</td>\n",
       "    </tr>\n",
       "    <tr>\n",
       "      <th>2</th>\n",
       "      <td>NaN</td>\n",
       "      <td>33.0</td>\n",
       "      <td>Mumbai</td>\n",
       "    </tr>\n",
       "    <tr>\n",
       "      <th>3</th>\n",
       "      <td>Mahesh</td>\n",
       "      <td>NaN</td>\n",
       "      <td>Chennai</td>\n",
       "    </tr>\n",
       "  </tbody>\n",
       "</table>\n",
       "</div>"
      ],
      "text/plain": [
       "    Names   Age     City\n",
       "0  Ramesh  31.0      NaN\n",
       "1  Suresh  32.0      Hyd\n",
       "2     NaN  33.0   Mumbai\n",
       "3  Mahesh   NaN  Chennai"
      ]
     },
     "execution_count": 34,
     "metadata": {},
     "output_type": "execute_result"
    }
   ],
   "source": [
    "data1['Age'].fillna(age_mean)\n",
    "data1"
   ]
  },
  {
   "cell_type": "code",
   "execution_count": 35,
   "id": "9a7a7570",
   "metadata": {},
   "outputs": [
    {
     "data": {
      "text/plain": [
       "0    31.0\n",
       "1    32.0\n",
       "2    33.0\n",
       "3    32.0\n",
       "Name: Age, dtype: float64"
      ]
     },
     "execution_count": 35,
     "metadata": {},
     "output_type": "execute_result"
    }
   ],
   "source": [
    "# instead of providing a random number\n",
    "# we are filling with mean of the data\n",
    "age_median=data1['Age'].median()\n",
    "age_median\n",
    "data1['Age'].fillna(age_median)"
   ]
  },
  {
   "cell_type": "code",
   "execution_count": 36,
   "id": "8ed966e2",
   "metadata": {},
   "outputs": [],
   "source": [
    "# Level1: Mean median mode\n",
    "# Level2: bfill fill\n",
    "# level3:"
   ]
  },
  {
   "cell_type": "markdown",
   "id": "fdb7354e",
   "metadata": {},
   "source": [
    "**Method-5:KNN imputer**"
   ]
  },
  {
   "cell_type": "markdown",
   "id": "544b4db1",
   "metadata": {},
   "source": [
    "KNN: K nearest neighbours\n",
    "    \n",
    "- in the KNN imputer instead of taking mean of all the values\n",
    "\n",
    "- will choose neigbours data\n",
    "\n",
    "- will take those mean only"
   ]
  },
  {
   "cell_type": "markdown",
   "id": "76ebdb82",
   "metadata": {},
   "source": [
    "**KNN Imputer**"
   ]
  },
  {
   "cell_type": "markdown",
   "id": "f7808dd7",
   "metadata": {},
   "source": [
    "<img src=\"data:image/png;base64,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\" data-deferred=\"1\" class=\"rg_i Q4LuWd\" jsname=\"Q4LuWd\" width=\"214\" height=\"180\" alt=\"Measuring Dis/Similarities\" data-iml=\"1192.5999999996275\" data-atf=\"true\">"
   ]
  },
  {
   "cell_type": "code",
   "execution_count": null,
   "id": "24d9b09d",
   "metadata": {},
   "outputs": [],
   "source": [
    "n_neighbors is parameter can choose by user\n",
    "\n",
    "if we dont choose by default it will takes as =5"
   ]
  },
  {
   "cell_type": "code",
   "execution_count": 39,
   "id": "cc62a787",
   "metadata": {},
   "outputs": [
    {
     "data": {
      "text/plain": [
       "array([[31.],\n",
       "       [32.],\n",
       "       [33.],\n",
       "       [32.]])"
      ]
     },
     "execution_count": 39,
     "metadata": {},
     "output_type": "execute_result"
    }
   ],
   "source": [
    "from sklearn.impute import KNNImputer\n",
    "knn=KNNImputer(n_neighbors=2)\n",
    "knn.fit_transform(data1[['Age']])"
   ]
  },
  {
   "cell_type": "code",
   "execution_count": 40,
   "id": "9b8cc1c6",
   "metadata": {},
   "outputs": [
    {
     "data": {
      "text/html": [
       "<div>\n",
       "<style scoped>\n",
       "    .dataframe tbody tr th:only-of-type {\n",
       "        vertical-align: middle;\n",
       "    }\n",
       "\n",
       "    .dataframe tbody tr th {\n",
       "        vertical-align: top;\n",
       "    }\n",
       "\n",
       "    .dataframe thead th {\n",
       "        text-align: right;\n",
       "    }\n",
       "</style>\n",
       "<table border=\"1\" class=\"dataframe\">\n",
       "  <thead>\n",
       "    <tr style=\"text-align: right;\">\n",
       "      <th></th>\n",
       "      <th>Names</th>\n",
       "      <th>Age</th>\n",
       "      <th>City</th>\n",
       "    </tr>\n",
       "  </thead>\n",
       "  <tbody>\n",
       "    <tr>\n",
       "      <th>0</th>\n",
       "      <td>Ramesh</td>\n",
       "      <td>31.0</td>\n",
       "      <td>NaN</td>\n",
       "    </tr>\n",
       "    <tr>\n",
       "      <th>1</th>\n",
       "      <td>Suresh</td>\n",
       "      <td>32.0</td>\n",
       "      <td>Hyd</td>\n",
       "    </tr>\n",
       "    <tr>\n",
       "      <th>2</th>\n",
       "      <td>NaN</td>\n",
       "      <td>33.0</td>\n",
       "      <td>Mumbai</td>\n",
       "    </tr>\n",
       "    <tr>\n",
       "      <th>3</th>\n",
       "      <td>Mahesh</td>\n",
       "      <td>NaN</td>\n",
       "      <td>Chennai</td>\n",
       "    </tr>\n",
       "  </tbody>\n",
       "</table>\n",
       "</div>"
      ],
      "text/plain": [
       "    Names   Age     City\n",
       "0  Ramesh  31.0      NaN\n",
       "1  Suresh  32.0      Hyd\n",
       "2     NaN  33.0   Mumbai\n",
       "3  Mahesh   NaN  Chennai"
      ]
     },
     "execution_count": 40,
     "metadata": {},
     "output_type": "execute_result"
    }
   ],
   "source": [
    "data1"
   ]
  },
  {
   "cell_type": "markdown",
   "id": "c00cbf4b",
   "metadata": {},
   "source": [
    "**Method-6**\n",
    "\n",
    "- Based on other columns\n",
    "\n",
    "- Some times all above methods will not provide good justification\n",
    "\n",
    "- at that time we need to check other columns dependancy also\n",
    "\n",
    "- Most of the time will pick a column which have highest correlation"
   ]
  },
  {
   "cell_type": "code",
   "execution_count": null,
   "id": "8724a419",
   "metadata": {},
   "outputs": [],
   "source": []
  },
  {
   "cell_type": "code",
   "execution_count": null,
   "id": "60e76ae3",
   "metadata": {},
   "outputs": [],
   "source": []
  },
  {
   "cell_type": "code",
   "execution_count": null,
   "id": "11fb2258",
   "metadata": {},
   "outputs": [],
   "source": []
  },
  {
   "cell_type": "code",
   "execution_count": null,
   "id": "2b30ad1d",
   "metadata": {},
   "outputs": [],
   "source": []
  }
 ],
 "metadata": {
  "kernelspec": {
   "display_name": "Python 3 (ipykernel)",
   "language": "python",
   "name": "python3"
  },
  "language_info": {
   "codemirror_mode": {
    "name": "ipython",
    "version": 3
   },
   "file_extension": ".py",
   "mimetype": "text/x-python",
   "name": "python",
   "nbconvert_exporter": "python",
   "pygments_lexer": "ipython3",
   "version": "3.9.7"
  }
 },
 "nbformat": 4,
 "nbformat_minor": 5
}
