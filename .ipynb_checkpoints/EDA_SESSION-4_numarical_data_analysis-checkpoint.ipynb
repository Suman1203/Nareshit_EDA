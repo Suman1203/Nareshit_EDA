{
 "cells": [
  {
   "cell_type": "code",
   "execution_count": 2,
   "id": "5b5e72f6",
   "metadata": {},
   "outputs": [],
   "source": [
    "import pandas as pd\n",
    "import numpy as np\n",
    "import matplotlib.pyplot as plt\n",
    "import seaborn as sns"
   ]
  },
  {
   "cell_type": "markdown",
   "id": "06e09926",
   "metadata": {},
   "source": [
    "hii hello"
   ]
  },
  {
   "cell_type": "code",
   "execution_count": 5,
   "id": "9693aeca",
   "metadata": {},
   "outputs": [
    {
     "data": {
      "text/html": [
       "<div>\n",
       "<style scoped>\n",
       "    .dataframe tbody tr th:only-of-type {\n",
       "        vertical-align: middle;\n",
       "    }\n",
       "\n",
       "    .dataframe tbody tr th {\n",
       "        vertical-align: top;\n",
       "    }\n",
       "\n",
       "    .dataframe thead th {\n",
       "        text-align: right;\n",
       "    }\n",
       "</style>\n",
       "<table border=\"1\" class=\"dataframe\">\n",
       "  <thead>\n",
       "    <tr style=\"text-align: right;\">\n",
       "      <th></th>\n",
       "      <th>case_id</th>\n",
       "      <th>continent</th>\n",
       "      <th>education_of_employee</th>\n",
       "      <th>has_job_experience</th>\n",
       "      <th>requires_job_training</th>\n",
       "      <th>no_of_employees</th>\n",
       "      <th>yr_of_estab</th>\n",
       "      <th>region_of_employment</th>\n",
       "      <th>prevailing_wage</th>\n",
       "      <th>unit_of_wage</th>\n",
       "      <th>full_time_position</th>\n",
       "      <th>case_status</th>\n",
       "    </tr>\n",
       "  </thead>\n",
       "  <tbody>\n",
       "    <tr>\n",
       "      <th>0</th>\n",
       "      <td>EZYV01</td>\n",
       "      <td>Asia</td>\n",
       "      <td>High School</td>\n",
       "      <td>N</td>\n",
       "      <td>N</td>\n",
       "      <td>14513.0</td>\n",
       "      <td>2007.0</td>\n",
       "      <td>West</td>\n",
       "      <td>592.2029</td>\n",
       "      <td>Hour</td>\n",
       "      <td>Y</td>\n",
       "      <td>Denied</td>\n",
       "    </tr>\n",
       "    <tr>\n",
       "      <th>1</th>\n",
       "      <td>EZYV02</td>\n",
       "      <td>Asia</td>\n",
       "      <td>Master's</td>\n",
       "      <td>Y</td>\n",
       "      <td>N</td>\n",
       "      <td>2412.0</td>\n",
       "      <td>2002.0</td>\n",
       "      <td>Northeast</td>\n",
       "      <td>83425.6500</td>\n",
       "      <td>Year</td>\n",
       "      <td>Y</td>\n",
       "      <td>Certified</td>\n",
       "    </tr>\n",
       "    <tr>\n",
       "      <th>2</th>\n",
       "      <td>EZYV03</td>\n",
       "      <td>Asia</td>\n",
       "      <td>Bachelor's</td>\n",
       "      <td>N</td>\n",
       "      <td>Y</td>\n",
       "      <td>44444.0</td>\n",
       "      <td>2008.0</td>\n",
       "      <td>West</td>\n",
       "      <td>122996.8600</td>\n",
       "      <td>Year</td>\n",
       "      <td>Y</td>\n",
       "      <td>Denied</td>\n",
       "    </tr>\n",
       "  </tbody>\n",
       "</table>\n",
       "</div>"
      ],
      "text/plain": [
       "  case_id continent education_of_employee has_job_experience  \\\n",
       "0  EZYV01      Asia           High School                  N   \n",
       "1  EZYV02      Asia              Master's                  Y   \n",
       "2  EZYV03      Asia            Bachelor's                  N   \n",
       "\n",
       "  requires_job_training  no_of_employees  yr_of_estab region_of_employment  \\\n",
       "0                     N          14513.0       2007.0                 West   \n",
       "1                     N           2412.0       2002.0            Northeast   \n",
       "2                     Y          44444.0       2008.0                 West   \n",
       "\n",
       "   prevailing_wage unit_of_wage full_time_position case_status  \n",
       "0         592.2029         Hour                  Y      Denied  \n",
       "1       83425.6500         Year                  Y   Certified  \n",
       "2      122996.8600         Year                  Y      Denied  "
      ]
     },
     "execution_count": 5,
     "metadata": {},
     "output_type": "execute_result"
    }
   ],
   "source": [
    "path=r\"C:\\Users\\veeranna\\DATA SCIENCE\\Data_sets\\Visadataset.xlsx\"\n",
    "visa_df=pd.read_excel(path)\n",
    "visa_df.head(3)"
   ]
  },
  {
   "cell_type": "code",
   "execution_count": 6,
   "id": "1c59da1a",
   "metadata": {},
   "outputs": [
    {
     "data": {
      "text/plain": [
       "Index(['case_id', 'continent', 'education_of_employee', 'has_job_experience',\n",
       "       'requires_job_training', 'no_of_employees', 'yr_of_estab',\n",
       "       'region_of_employment', 'prevailing_wage', 'unit_of_wage',\n",
       "       'full_time_position', 'case_status'],\n",
       "      dtype='object')"
      ]
     },
     "execution_count": 6,
     "metadata": {},
     "output_type": "execute_result"
    }
   ],
   "source": [
    "visa_df.columns"
   ]
  },
  {
   "cell_type": "code",
   "execution_count": 8,
   "id": "3a7f0bd0",
   "metadata": {},
   "outputs": [
    {
     "data": {
      "text/plain": [
       "Index(['no_of_employees', 'yr_of_estab', 'prevailing_wage'], dtype='object')"
      ]
     },
     "execution_count": 8,
     "metadata": {},
     "output_type": "execute_result"
    }
   ],
   "source": [
    "visa_df.select_dtypes(exclude='object').columns"
   ]
  },
  {
   "cell_type": "markdown",
   "id": "77100cfd",
   "metadata": {},
   "source": [
    "$prevailing-wage$\n",
    "- in the numarical analysis \n",
    "- mean median std count 25p 50p"
   ]
  },
  {
   "cell_type": "code",
   "execution_count": 10,
   "id": "430682ce",
   "metadata": {},
   "outputs": [
    {
     "data": {
      "text/plain": [
       "0           592.2029\n",
       "1         83425.6500\n",
       "2        122996.8600\n",
       "3         83434.0300\n",
       "4        149907.3900\n",
       "            ...     \n",
       "25475     77092.5700\n",
       "25476    279174.7900\n",
       "25477    146298.8500\n",
       "25478     86154.7700\n",
       "25479     70876.9100\n",
       "Name: prevailing_wage, Length: 25480, dtype: float64"
      ]
     },
     "execution_count": 10,
     "metadata": {},
     "output_type": "execute_result"
    }
   ],
   "source": [
    "visa_df['prevailing_wage']"
   ]
  },
  {
   "cell_type": "markdown",
   "id": "31ea7988",
   "metadata": {},
   "source": [
    "$count$"
   ]
  },
  {
   "cell_type": "code",
   "execution_count": 11,
   "id": "88d35e6b",
   "metadata": {},
   "outputs": [
    {
     "data": {
      "text/plain": [
       "25480"
      ]
     },
     "execution_count": 11,
     "metadata": {},
     "output_type": "execute_result"
    }
   ],
   "source": [
    "len(visa_df[\"prevailing_wage\"])"
   ]
  },
  {
   "cell_type": "code",
   "execution_count": 12,
   "id": "255c1d7c",
   "metadata": {},
   "outputs": [
    {
     "data": {
      "text/plain": [
       "25480"
      ]
     },
     "execution_count": 12,
     "metadata": {},
     "output_type": "execute_result"
    }
   ],
   "source": [
    "visa_df[\"prevailing_wage\"].count()"
   ]
  },
  {
   "cell_type": "markdown",
   "id": "776d7fdd",
   "metadata": {},
   "source": [
    "$mean$"
   ]
  },
  {
   "cell_type": "code",
   "execution_count": 13,
   "id": "dfe83f32",
   "metadata": {},
   "outputs": [
    {
     "data": {
      "text/plain": [
       "74455.81459209221"
      ]
     },
     "execution_count": 13,
     "metadata": {},
     "output_type": "execute_result"
    }
   ],
   "source": [
    "visa_df[\"prevailing_wage\"].mean()#pandas"
   ]
  },
  {
   "cell_type": "code",
   "execution_count": 14,
   "id": "cc21ebff",
   "metadata": {},
   "outputs": [
    {
     "data": {
      "text/plain": [
       "74455.81459209221"
      ]
     },
     "execution_count": 14,
     "metadata": {},
     "output_type": "execute_result"
    }
   ],
   "source": [
    "np.mean(visa_df[\"prevailing_wage\"])  #numpy"
   ]
  },
  {
   "cell_type": "markdown",
   "id": "b7b30e0c",
   "metadata": {},
   "source": [
    "$median$"
   ]
  },
  {
   "cell_type": "code",
   "execution_count": 15,
   "id": "374900c6",
   "metadata": {},
   "outputs": [
    {
     "data": {
      "text/plain": [
       "70308.20999999999"
      ]
     },
     "execution_count": 15,
     "metadata": {},
     "output_type": "execute_result"
    }
   ],
   "source": [
    "visa_df[\"prevailing_wage\"].median()"
   ]
  },
  {
   "cell_type": "code",
   "execution_count": 16,
   "id": "ad09d2c0",
   "metadata": {},
   "outputs": [
    {
     "data": {
      "text/plain": [
       "70308.20999999999"
      ]
     },
     "execution_count": 16,
     "metadata": {},
     "output_type": "execute_result"
    }
   ],
   "source": [
    "np.median(visa_df[\"prevailing_wage\"])"
   ]
  },
  {
   "cell_type": "markdown",
   "id": "c5d019d5",
   "metadata": {},
   "source": [
    "$max$"
   ]
  },
  {
   "cell_type": "code",
   "execution_count": 17,
   "id": "688a70d5",
   "metadata": {},
   "outputs": [
    {
     "data": {
      "text/plain": [
       "319210.27"
      ]
     },
     "execution_count": 17,
     "metadata": {},
     "output_type": "execute_result"
    }
   ],
   "source": [
    "visa_df[\"prevailing_wage\"].max()"
   ]
  },
  {
   "cell_type": "code",
   "execution_count": 18,
   "id": "b6add4e5",
   "metadata": {},
   "outputs": [
    {
     "data": {
      "text/plain": [
       "319210.27"
      ]
     },
     "execution_count": 18,
     "metadata": {},
     "output_type": "execute_result"
    }
   ],
   "source": [
    "np.max(visa_df[\"prevailing_wage\"])"
   ]
  },
  {
   "cell_type": "markdown",
   "id": "9e69cfc4",
   "metadata": {},
   "source": [
    "$min$"
   ]
  },
  {
   "cell_type": "code",
   "execution_count": 19,
   "id": "5c03eb73",
   "metadata": {},
   "outputs": [
    {
     "data": {
      "text/plain": [
       "2.1367"
      ]
     },
     "execution_count": 19,
     "metadata": {},
     "output_type": "execute_result"
    }
   ],
   "source": [
    "visa_df[\"prevailing_wage\"].min()"
   ]
  },
  {
   "cell_type": "code",
   "execution_count": 21,
   "id": "871d92b1",
   "metadata": {},
   "outputs": [
    {
     "data": {
      "text/plain": [
       "2.1367"
      ]
     },
     "execution_count": 21,
     "metadata": {},
     "output_type": "execute_result"
    }
   ],
   "source": [
    "np.min(visa_df[\"prevailing_wage\"])"
   ]
  },
  {
   "cell_type": "markdown",
   "id": "7945eb48",
   "metadata": {},
   "source": [
    "$standerd-deviation$"
   ]
  },
  {
   "cell_type": "code",
   "execution_count": 22,
   "id": "9bcaada2",
   "metadata": {},
   "outputs": [
    {
     "data": {
      "text/plain": [
       "52815.94232687357"
      ]
     },
     "execution_count": 22,
     "metadata": {},
     "output_type": "execute_result"
    }
   ],
   "source": [
    "visa_df[\"prevailing_wage\"].std()"
   ]
  },
  {
   "cell_type": "code",
   "execution_count": 23,
   "id": "cf48e6d5",
   "metadata": {},
   "outputs": [
    {
     "data": {
      "text/html": [
       "<div>\n",
       "<style scoped>\n",
       "    .dataframe tbody tr th:only-of-type {\n",
       "        vertical-align: middle;\n",
       "    }\n",
       "\n",
       "    .dataframe tbody tr th {\n",
       "        vertical-align: top;\n",
       "    }\n",
       "\n",
       "    .dataframe thead th {\n",
       "        text-align: right;\n",
       "    }\n",
       "</style>\n",
       "<table border=\"1\" class=\"dataframe\">\n",
       "  <thead>\n",
       "    <tr style=\"text-align: right;\">\n",
       "      <th></th>\n",
       "      <th>prevailing_wage</th>\n",
       "    </tr>\n",
       "  </thead>\n",
       "  <tbody>\n",
       "    <tr>\n",
       "      <th>count</th>\n",
       "      <td>25480.00</td>\n",
       "    </tr>\n",
       "    <tr>\n",
       "      <th>max</th>\n",
       "      <td>319210.27</td>\n",
       "    </tr>\n",
       "    <tr>\n",
       "      <th>min</th>\n",
       "      <td>2.14</td>\n",
       "    </tr>\n",
       "    <tr>\n",
       "      <th>mean</th>\n",
       "      <td>74455.81</td>\n",
       "    </tr>\n",
       "    <tr>\n",
       "      <th>median</th>\n",
       "      <td>70308.21</td>\n",
       "    </tr>\n",
       "    <tr>\n",
       "      <th>std</th>\n",
       "      <td>52815.94</td>\n",
       "    </tr>\n",
       "  </tbody>\n",
       "</table>\n",
       "</div>"
      ],
      "text/plain": [
       "        prevailing_wage\n",
       "count          25480.00\n",
       "max           319210.27\n",
       "min                2.14\n",
       "mean           74455.81\n",
       "median         70308.21\n",
       "std            52815.94"
      ]
     },
     "execution_count": 23,
     "metadata": {},
     "output_type": "execute_result"
    }
   ],
   "source": [
    "wage_count=round(visa_df[\"prevailing_wage\"].count(),2)\n",
    "wage_mean=round(visa_df[\"prevailing_wage\"].mean(),2)\n",
    "wage_median=round(visa_df[\"prevailing_wage\"].median(),2)\n",
    "wage_max=round(visa_df[\"prevailing_wage\"].max(),2)\n",
    "wage_min=round(visa_df[\"prevailing_wage\"].min(),2)\n",
    "wage_std=round(visa_df[\"prevailing_wage\"].std(),2)\n",
    "l=[wage_count,wage_max,wage_min,wage_mean,wage_median,wage_std]\n",
    "cols=['prevailing_wage']\n",
    "index=['count','max','min','mean','median','std']\n",
    "pd.DataFrame(l,columns=cols,index=index)"
   ]
  },
  {
   "cell_type": "markdown",
   "id": "9f32f743",
   "metadata": {},
   "source": [
    "$percentile-quantite$"
   ]
  },
  {
   "cell_type": "markdown",
   "id": "79206567",
   "metadata": {},
   "source": [
    "- percentile and quantile avilable in numpy\n",
    "- np.percentile()\n",
    "     - column name\n",
    "     - pecrentile value between 0 to 100\n",
    "-np.quantile()    \n",
    "     - column name\n",
    "     - 0 to 1\n",
    "- in quantile 0.25 means 25 in percentile        "
   ]
  },
  {
   "cell_type": "code",
   "execution_count": 24,
   "id": "87ee92da",
   "metadata": {},
   "outputs": [
    {
     "data": {
      "text/plain": [
       "34015.479999999996"
      ]
     },
     "execution_count": 24,
     "metadata": {},
     "output_type": "execute_result"
    }
   ],
   "source": [
    "np.percentile(visa_df[\"prevailing_wage\"],25)"
   ]
  },
  {
   "cell_type": "code",
   "execution_count": 25,
   "id": "a0eeb0c9",
   "metadata": {},
   "outputs": [
    {
     "data": {
      "text/plain": [
       "34015.479999999996"
      ]
     },
     "execution_count": 25,
     "metadata": {},
     "output_type": "execute_result"
    }
   ],
   "source": [
    "np.quantile(visa_df[\"prevailing_wage\"],0.25)"
   ]
  },
  {
   "cell_type": "markdown",
   "id": "6ecc11a1",
   "metadata": {},
   "source": [
    "**what is the meaning of 25percentile=34015.47**\n",
    "- 25 percentage of total data has wage less thean 34014.47\n",
    "- find 25 percentage of total data=25*25480/100=6370\n",
    "- 6370 person wages has less than 34014\n"
   ]
  },
  {
   "cell_type": "code",
   "execution_count": 26,
   "id": "4372e3b5",
   "metadata": {},
   "outputs": [
    {
     "data": {
      "text/plain": [
       "6370"
      ]
     },
     "execution_count": 26,
     "metadata": {},
     "output_type": "execute_result"
    }
   ],
   "source": [
    "con=visa_df['prevailing_wage']<34014\n",
    "len(visa_df[con])"
   ]
  },
  {
   "cell_type": "code",
   "execution_count": null,
   "id": "25a63da1",
   "metadata": {},
   "outputs": [],
   "source": [
    "#can you valid quickly for 50p data"
   ]
  },
  {
   "cell_type": "code",
   "execution_count": 28,
   "id": "f207adb2",
   "metadata": {},
   "outputs": [
    {
     "data": {
      "text/plain": [
       "12740"
      ]
     },
     "execution_count": 28,
     "metadata": {},
     "output_type": "execute_result"
    }
   ],
   "source": [
    "wage_50=np.percentile(visa_df[\"prevailing_wage\"],50)\n",
    "con=visa_df['prevailing_wage']<wage_50\n",
    "len(visa_df[con])"
   ]
  },
  {
   "cell_type": "code",
   "execution_count": 29,
   "id": "03359860",
   "metadata": {},
   "outputs": [
    {
     "data": {
      "text/html": [
       "<div>\n",
       "<style scoped>\n",
       "    .dataframe tbody tr th:only-of-type {\n",
       "        vertical-align: middle;\n",
       "    }\n",
       "\n",
       "    .dataframe tbody tr th {\n",
       "        vertical-align: top;\n",
       "    }\n",
       "\n",
       "    .dataframe thead th {\n",
       "        text-align: right;\n",
       "    }\n",
       "</style>\n",
       "<table border=\"1\" class=\"dataframe\">\n",
       "  <thead>\n",
       "    <tr style=\"text-align: right;\">\n",
       "      <th></th>\n",
       "      <th>prevailing_wage</th>\n",
       "    </tr>\n",
       "  </thead>\n",
       "  <tbody>\n",
       "    <tr>\n",
       "      <th>count</th>\n",
       "      <td>25480.0000</td>\n",
       "    </tr>\n",
       "    <tr>\n",
       "      <th>max</th>\n",
       "      <td>319210.2700</td>\n",
       "    </tr>\n",
       "    <tr>\n",
       "      <th>min</th>\n",
       "      <td>2.1400</td>\n",
       "    </tr>\n",
       "    <tr>\n",
       "      <th>mean</th>\n",
       "      <td>74455.8100</td>\n",
       "    </tr>\n",
       "    <tr>\n",
       "      <th>median</th>\n",
       "      <td>70308.2100</td>\n",
       "    </tr>\n",
       "    <tr>\n",
       "      <th>std</th>\n",
       "      <td>52815.9400</td>\n",
       "    </tr>\n",
       "    <tr>\n",
       "      <th>25%</th>\n",
       "      <td>34015.4800</td>\n",
       "    </tr>\n",
       "    <tr>\n",
       "      <th>50%</th>\n",
       "      <td>70308.2100</td>\n",
       "    </tr>\n",
       "    <tr>\n",
       "      <th>75%</th>\n",
       "      <td>107735.5125</td>\n",
       "    </tr>\n",
       "  </tbody>\n",
       "</table>\n",
       "</div>"
      ],
      "text/plain": [
       "        prevailing_wage\n",
       "count        25480.0000\n",
       "max         319210.2700\n",
       "min              2.1400\n",
       "mean         74455.8100\n",
       "median       70308.2100\n",
       "std          52815.9400\n",
       "25%          34015.4800\n",
       "50%          70308.2100\n",
       "75%         107735.5125"
      ]
     },
     "execution_count": 29,
     "metadata": {},
     "output_type": "execute_result"
    }
   ],
   "source": [
    "wage_count=round(visa_df[\"prevailing_wage\"].count(),2)\n",
    "wage_mean=round(visa_df[\"prevailing_wage\"].mean(),2)\n",
    "wage_median=round(visa_df[\"prevailing_wage\"].median(),2)\n",
    "wage_max=round(visa_df[\"prevailing_wage\"].max(),2)\n",
    "wage_min=round(visa_df[\"prevailing_wage\"].min(),2)\n",
    "wage_std=round(visa_df[\"prevailing_wage\"].std(),2)\n",
    "wage_25=np.percentile(visa_df[\"prevailing_wage\"],25)\n",
    "wage_50=np.percentile(visa_df[\"prevailing_wage\"],50)\n",
    "wage_75=np.percentile(visa_df[\"prevailing_wage\"],75)\n",
    "l=[wage_count,wage_max,wage_min,wage_mean,wage_median,wage_std,wage_25,wage_50,wage_75]\n",
    "cols=['prevailing_wage']\n",
    "index=['count','max','min','mean','median','std',\"25%\",\"50%\",\"75%\"]\n",
    "pd.DataFrame(l,columns=cols,index=index)"
   ]
  },
  {
   "cell_type": "code",
   "execution_count": null,
   "id": "e32b696f",
   "metadata": {},
   "outputs": [],
   "source": [
    "wage_count=round(visa_df[\"prevailing_wage\"].count(),2)\n",
    "wage_mean=round(visa_df[\"prevailing_wage\"].mean(),2)\n",
    "wage_median=round(visa_df[\"prevailing_wage\"].median(),2)\n",
    "wage_max=round(visa_df[\"prevailing_wage\"].max(),2)\n",
    "wage_min=round(visa_df[\"prevailing_wage\"].min(),2)\n",
    "wage_std=round(visa_df[\"prevailing_wage\"].std(),2)\n",
    "wage_25=np.percentile(visa_df[\"prevailing_wage\"],25)\n",
    "wage_50=np.percentile(visa_df[\"prevailing_wage\"],50)\n",
    "wage_75=np.percentile(visa_df[\"prevailing_wage\"],75)\n",
    "l=[wage_count,wage_max,wage_min,wage_mean,wage_median,wage_std,wage_25,wa]"
   ]
  },
  {
   "cell_type": "code",
   "execution_count": 30,
   "id": "5764caef",
   "metadata": {},
   "outputs": [
    {
     "data": {
      "text/html": [
       "<div>\n",
       "<style scoped>\n",
       "    .dataframe tbody tr th:only-of-type {\n",
       "        vertical-align: middle;\n",
       "    }\n",
       "\n",
       "    .dataframe tbody tr th {\n",
       "        vertical-align: top;\n",
       "    }\n",
       "\n",
       "    .dataframe thead th {\n",
       "        text-align: right;\n",
       "    }\n",
       "</style>\n",
       "<table border=\"1\" class=\"dataframe\">\n",
       "  <thead>\n",
       "    <tr style=\"text-align: right;\">\n",
       "      <th></th>\n",
       "      <th>no_of_employees</th>\n",
       "      <th>yr_of_estab</th>\n",
       "      <th>prevailing_wage</th>\n",
       "    </tr>\n",
       "  </thead>\n",
       "  <tbody>\n",
       "    <tr>\n",
       "      <th>count</th>\n",
       "      <td>25480.000000</td>\n",
       "      <td>25480.000000</td>\n",
       "      <td>25480.000000</td>\n",
       "    </tr>\n",
       "    <tr>\n",
       "      <th>mean</th>\n",
       "      <td>5667.043210</td>\n",
       "      <td>1979.409929</td>\n",
       "      <td>74455.814592</td>\n",
       "    </tr>\n",
       "    <tr>\n",
       "      <th>std</th>\n",
       "      <td>22877.928848</td>\n",
       "      <td>42.366929</td>\n",
       "      <td>52815.942327</td>\n",
       "    </tr>\n",
       "    <tr>\n",
       "      <th>min</th>\n",
       "      <td>-26.000000</td>\n",
       "      <td>1800.000000</td>\n",
       "      <td>2.136700</td>\n",
       "    </tr>\n",
       "    <tr>\n",
       "      <th>25%</th>\n",
       "      <td>1022.000000</td>\n",
       "      <td>1976.000000</td>\n",
       "      <td>34015.480000</td>\n",
       "    </tr>\n",
       "    <tr>\n",
       "      <th>50%</th>\n",
       "      <td>2109.000000</td>\n",
       "      <td>1997.000000</td>\n",
       "      <td>70308.210000</td>\n",
       "    </tr>\n",
       "    <tr>\n",
       "      <th>75%</th>\n",
       "      <td>3504.000000</td>\n",
       "      <td>2005.000000</td>\n",
       "      <td>107735.512500</td>\n",
       "    </tr>\n",
       "    <tr>\n",
       "      <th>max</th>\n",
       "      <td>602069.000000</td>\n",
       "      <td>2016.000000</td>\n",
       "      <td>319210.270000</td>\n",
       "    </tr>\n",
       "  </tbody>\n",
       "</table>\n",
       "</div>"
      ],
      "text/plain": [
       "       no_of_employees   yr_of_estab  prevailing_wage\n",
       "count     25480.000000  25480.000000     25480.000000\n",
       "mean       5667.043210   1979.409929     74455.814592\n",
       "std       22877.928848     42.366929     52815.942327\n",
       "min         -26.000000   1800.000000         2.136700\n",
       "25%        1022.000000   1976.000000     34015.480000\n",
       "50%        2109.000000   1997.000000     70308.210000\n",
       "75%        3504.000000   2005.000000    107735.512500\n",
       "max      602069.000000   2016.000000    319210.270000"
      ]
     },
     "execution_count": 30,
     "metadata": {},
     "output_type": "execute_result"
    }
   ],
   "source": [
    " \n",
    "# 3 numarical columns"
   ]
  },
  {
   "cell_type": "code",
   "execution_count": 33,
   "id": "10b5e88d",
   "metadata": {},
   "outputs": [
    {
     "data": {
      "text/html": [
       "<div>\n",
       "<style scoped>\n",
       "    .dataframe tbody tr th:only-of-type {\n",
       "        vertical-align: middle;\n",
       "    }\n",
       "\n",
       "    .dataframe tbody tr th {\n",
       "        vertical-align: top;\n",
       "    }\n",
       "\n",
       "    .dataframe thead th {\n",
       "        text-align: right;\n",
       "    }\n",
       "</style>\n",
       "<table border=\"1\" class=\"dataframe\">\n",
       "  <thead>\n",
       "    <tr style=\"text-align: right;\">\n",
       "      <th></th>\n",
       "      <th>no_of_employees</th>\n",
       "      <th>yr_of_estab</th>\n",
       "      <th>prevailing_wage</th>\n",
       "    </tr>\n",
       "  </thead>\n",
       "  <tbody>\n",
       "    <tr>\n",
       "      <th>count</th>\n",
       "      <td>25480.00</td>\n",
       "      <td>25480.00</td>\n",
       "      <td>25480.0000</td>\n",
       "    </tr>\n",
       "    <tr>\n",
       "      <th>max</th>\n",
       "      <td>602069.00</td>\n",
       "      <td>2016.00</td>\n",
       "      <td>319210.2700</td>\n",
       "    </tr>\n",
       "    <tr>\n",
       "      <th>min</th>\n",
       "      <td>-26.00</td>\n",
       "      <td>1800.00</td>\n",
       "      <td>2.1400</td>\n",
       "    </tr>\n",
       "    <tr>\n",
       "      <th>mean</th>\n",
       "      <td>5667.04</td>\n",
       "      <td>1979.41</td>\n",
       "      <td>74455.8100</td>\n",
       "    </tr>\n",
       "    <tr>\n",
       "      <th>median</th>\n",
       "      <td>2109.00</td>\n",
       "      <td>1997.00</td>\n",
       "      <td>70308.2100</td>\n",
       "    </tr>\n",
       "    <tr>\n",
       "      <th>std</th>\n",
       "      <td>22877.93</td>\n",
       "      <td>42.37</td>\n",
       "      <td>52815.9400</td>\n",
       "    </tr>\n",
       "    <tr>\n",
       "      <th>25%</th>\n",
       "      <td>1022.00</td>\n",
       "      <td>1976.00</td>\n",
       "      <td>34015.4800</td>\n",
       "    </tr>\n",
       "    <tr>\n",
       "      <th>50%</th>\n",
       "      <td>2109.00</td>\n",
       "      <td>1997.00</td>\n",
       "      <td>70308.2100</td>\n",
       "    </tr>\n",
       "    <tr>\n",
       "      <th>75%</th>\n",
       "      <td>3504.00</td>\n",
       "      <td>2005.00</td>\n",
       "      <td>107735.5125</td>\n",
       "    </tr>\n",
       "  </tbody>\n",
       "</table>\n",
       "</div>"
      ],
      "text/plain": [
       "        no_of_employees  yr_of_estab  prevailing_wage\n",
       "count          25480.00     25480.00       25480.0000\n",
       "max           602069.00      2016.00      319210.2700\n",
       "min              -26.00      1800.00           2.1400\n",
       "mean            5667.04      1979.41       74455.8100\n",
       "median          2109.00      1997.00       70308.2100\n",
       "std            22877.93        42.37       52815.9400\n",
       "25%             1022.00      1976.00       34015.4800\n",
       "50%             2109.00      1997.00       70308.2100\n",
       "75%             3504.00      2005.00      107735.5125"
      ]
     },
     "execution_count": 33,
     "metadata": {},
     "output_type": "execute_result"
    }
   ],
   "source": [
    "cols=visa_df.select_dtypes(exclude='object').columns\n",
    "l=[]\n",
    "for i in cols:\n",
    "    count=round(visa_df[i].count(),2)\n",
    "    mean=round(visa_df[i].mean(),2)\n",
    "    median=round(visa_df[i].median(),2)\n",
    "    maxx=round(visa_df[i].max(),2)\n",
    "    minn=round(visa_df[i].min(),2)\n",
    "    std=round(visa_df[i].std(),2)\n",
    "    p_25=np.percentile(visa_df[i],25)\n",
    "    p_50=np.percentile(visa_df[i],50)\n",
    "    p_75=np.percentile(visa_df[i],75)\n",
    "    l.append([count,maxx,minn,mean,median,std,p_25,p_50,p_75])\n",
    "    \n",
    "index=['count','max','min','mean','median','std',\"25%\",\"50%\",\"75%\"]\n",
    "pd.DataFrame(zip(l[0],l[1],l[2]),columns=cols,index=index)"
   ]
  },
  {
   "cell_type": "code",
   "execution_count": 34,
   "id": "fce055b4",
   "metadata": {},
   "outputs": [
    {
     "data": {
      "text/html": [
       "<div>\n",
       "<style scoped>\n",
       "    .dataframe tbody tr th:only-of-type {\n",
       "        vertical-align: middle;\n",
       "    }\n",
       "\n",
       "    .dataframe tbody tr th {\n",
       "        vertical-align: top;\n",
       "    }\n",
       "\n",
       "    .dataframe thead th {\n",
       "        text-align: right;\n",
       "    }\n",
       "</style>\n",
       "<table border=\"1\" class=\"dataframe\">\n",
       "  <thead>\n",
       "    <tr style=\"text-align: right;\">\n",
       "      <th></th>\n",
       "      <th>no_of_employees</th>\n",
       "      <th>yr_of_estab</th>\n",
       "      <th>prevailing_wage</th>\n",
       "    </tr>\n",
       "  </thead>\n",
       "  <tbody>\n",
       "    <tr>\n",
       "      <th>count</th>\n",
       "      <td>25480.00</td>\n",
       "      <td>25480.00</td>\n",
       "      <td>25480.0000</td>\n",
       "    </tr>\n",
       "    <tr>\n",
       "      <th>max</th>\n",
       "      <td>602069.00</td>\n",
       "      <td>2016.00</td>\n",
       "      <td>319210.2700</td>\n",
       "    </tr>\n",
       "    <tr>\n",
       "      <th>min</th>\n",
       "      <td>-26.00</td>\n",
       "      <td>1800.00</td>\n",
       "      <td>2.1400</td>\n",
       "    </tr>\n",
       "    <tr>\n",
       "      <th>mean</th>\n",
       "      <td>5667.04</td>\n",
       "      <td>1979.41</td>\n",
       "      <td>74455.8100</td>\n",
       "    </tr>\n",
       "    <tr>\n",
       "      <th>median</th>\n",
       "      <td>2109.00</td>\n",
       "      <td>1997.00</td>\n",
       "      <td>70308.2100</td>\n",
       "    </tr>\n",
       "    <tr>\n",
       "      <th>std</th>\n",
       "      <td>22877.93</td>\n",
       "      <td>42.37</td>\n",
       "      <td>52815.9400</td>\n",
       "    </tr>\n",
       "    <tr>\n",
       "      <th>25%</th>\n",
       "      <td>1022.00</td>\n",
       "      <td>1976.00</td>\n",
       "      <td>34015.4800</td>\n",
       "    </tr>\n",
       "    <tr>\n",
       "      <th>50%</th>\n",
       "      <td>2109.00</td>\n",
       "      <td>1997.00</td>\n",
       "      <td>70308.2100</td>\n",
       "    </tr>\n",
       "    <tr>\n",
       "      <th>75%</th>\n",
       "      <td>3504.00</td>\n",
       "      <td>2005.00</td>\n",
       "      <td>107735.5125</td>\n",
       "    </tr>\n",
       "  </tbody>\n",
       "</table>\n",
       "</div>"
      ],
      "text/plain": [
       "        no_of_employees  yr_of_estab  prevailing_wage\n",
       "count          25480.00     25480.00       25480.0000\n",
       "max           602069.00      2016.00      319210.2700\n",
       "min              -26.00      1800.00           2.1400\n",
       "mean            5667.04      1979.41       74455.8100\n",
       "median          2109.00      1997.00       70308.2100\n",
       "std            22877.93        42.37       52815.9400\n",
       "25%             1022.00      1976.00       34015.4800\n",
       "50%             2109.00      1997.00       70308.2100\n",
       "75%             3504.00      2005.00      107735.5125"
      ]
     },
     "execution_count": 34,
     "metadata": {},
     "output_type": "execute_result"
    }
   ],
   "source": [
    "cols=visa_df.select_dtypes(exclude='object').columns\n",
    "d={}\n",
    "for i in cols:\n",
    "    count=round(visa_df[i].count(),2)\n",
    "    mean=round(visa_df[i].mean(),2)\n",
    "    median=round(visa_df[i].median(),2)\n",
    "    maxx=round(visa_df[i].max(),2)\n",
    "    minn=round(visa_df[i].min(),2)\n",
    "    std=round(visa_df[i].std(),2)\n",
    "    p_25=np.percentile(visa_df[i],25)\n",
    "    p_50=np.percentile(visa_df[i],50)\n",
    "    p_75=np.percentile(visa_df[i],75)\n",
    "    d[i]=([count,maxx,minn,mean,median,std,p_25,p_50,p_75])\n",
    "    \n",
    "index=['count','max','min','mean','median','std',\"25%\",\"50%\",\"75%\"]\n",
    "pd.DataFrame(d,index=index)"
   ]
  },
  {
   "cell_type": "code",
   "execution_count": 2,
   "id": "37834303",
   "metadata": {},
   "outputs": [],
   "source": [
    "import pandas as pd\n",
    "import numpy as np\n",
    "import matplotlib.pyplot as plt\n",
    "import seaborn as sns"
   ]
  },
  {
   "cell_type": "code",
   "execution_count": 4,
   "id": "9685e536",
   "metadata": {},
   "outputs": [
    {
     "data": {
      "text/html": [
       "<div>\n",
       "<style scoped>\n",
       "    .dataframe tbody tr th:only-of-type {\n",
       "        vertical-align: middle;\n",
       "    }\n",
       "\n",
       "    .dataframe tbody tr th {\n",
       "        vertical-align: top;\n",
       "    }\n",
       "\n",
       "    .dataframe thead th {\n",
       "        text-align: right;\n",
       "    }\n",
       "</style>\n",
       "<table border=\"1\" class=\"dataframe\">\n",
       "  <thead>\n",
       "    <tr style=\"text-align: right;\">\n",
       "      <th></th>\n",
       "      <th>case_id</th>\n",
       "      <th>continent</th>\n",
       "      <th>education_of_employee</th>\n",
       "      <th>has_job_experience</th>\n",
       "      <th>requires_job_training</th>\n",
       "      <th>no_of_employees</th>\n",
       "      <th>yr_of_estab</th>\n",
       "      <th>region_of_employment</th>\n",
       "      <th>prevailing_wage</th>\n",
       "      <th>unit_of_wage</th>\n",
       "      <th>full_time_position</th>\n",
       "      <th>case_status</th>\n",
       "    </tr>\n",
       "  </thead>\n",
       "  <tbody>\n",
       "    <tr>\n",
       "      <th>0</th>\n",
       "      <td>EZYV01</td>\n",
       "      <td>Asia</td>\n",
       "      <td>High School</td>\n",
       "      <td>N</td>\n",
       "      <td>N</td>\n",
       "      <td>14513.0</td>\n",
       "      <td>2007.0</td>\n",
       "      <td>West</td>\n",
       "      <td>592.2029</td>\n",
       "      <td>Hour</td>\n",
       "      <td>Y</td>\n",
       "      <td>Denied</td>\n",
       "    </tr>\n",
       "    <tr>\n",
       "      <th>1</th>\n",
       "      <td>EZYV02</td>\n",
       "      <td>Asia</td>\n",
       "      <td>Master's</td>\n",
       "      <td>Y</td>\n",
       "      <td>N</td>\n",
       "      <td>2412.0</td>\n",
       "      <td>2002.0</td>\n",
       "      <td>Northeast</td>\n",
       "      <td>83425.6500</td>\n",
       "      <td>Year</td>\n",
       "      <td>Y</td>\n",
       "      <td>Certified</td>\n",
       "    </tr>\n",
       "    <tr>\n",
       "      <th>2</th>\n",
       "      <td>EZYV03</td>\n",
       "      <td>Asia</td>\n",
       "      <td>Bachelor's</td>\n",
       "      <td>N</td>\n",
       "      <td>Y</td>\n",
       "      <td>44444.0</td>\n",
       "      <td>2008.0</td>\n",
       "      <td>West</td>\n",
       "      <td>122996.8600</td>\n",
       "      <td>Year</td>\n",
       "      <td>Y</td>\n",
       "      <td>Denied</td>\n",
       "    </tr>\n",
       "    <tr>\n",
       "      <th>3</th>\n",
       "      <td>EZYV04</td>\n",
       "      <td>Asia</td>\n",
       "      <td>Bachelor's</td>\n",
       "      <td>N</td>\n",
       "      <td>N</td>\n",
       "      <td>98.0</td>\n",
       "      <td>1897.0</td>\n",
       "      <td>West</td>\n",
       "      <td>83434.0300</td>\n",
       "      <td>Year</td>\n",
       "      <td>Y</td>\n",
       "      <td>Denied</td>\n",
       "    </tr>\n",
       "    <tr>\n",
       "      <th>4</th>\n",
       "      <td>EZYV05</td>\n",
       "      <td>Africa</td>\n",
       "      <td>Master's</td>\n",
       "      <td>Y</td>\n",
       "      <td>N</td>\n",
       "      <td>1082.0</td>\n",
       "      <td>2005.0</td>\n",
       "      <td>South</td>\n",
       "      <td>149907.3900</td>\n",
       "      <td>Year</td>\n",
       "      <td>Y</td>\n",
       "      <td>Certified</td>\n",
       "    </tr>\n",
       "    <tr>\n",
       "      <th>...</th>\n",
       "      <td>...</td>\n",
       "      <td>...</td>\n",
       "      <td>...</td>\n",
       "      <td>...</td>\n",
       "      <td>...</td>\n",
       "      <td>...</td>\n",
       "      <td>...</td>\n",
       "      <td>...</td>\n",
       "      <td>...</td>\n",
       "      <td>...</td>\n",
       "      <td>...</td>\n",
       "      <td>...</td>\n",
       "    </tr>\n",
       "    <tr>\n",
       "      <th>25475</th>\n",
       "      <td>EZYV25476</td>\n",
       "      <td>Asia</td>\n",
       "      <td>Bachelor's</td>\n",
       "      <td>Y</td>\n",
       "      <td>Y</td>\n",
       "      <td>2601.0</td>\n",
       "      <td>2008.0</td>\n",
       "      <td>South</td>\n",
       "      <td>77092.5700</td>\n",
       "      <td>Year</td>\n",
       "      <td>Y</td>\n",
       "      <td>Certified</td>\n",
       "    </tr>\n",
       "    <tr>\n",
       "      <th>25476</th>\n",
       "      <td>EZYV25477</td>\n",
       "      <td>Asia</td>\n",
       "      <td>High School</td>\n",
       "      <td>Y</td>\n",
       "      <td>N</td>\n",
       "      <td>3274.0</td>\n",
       "      <td>2006.0</td>\n",
       "      <td>Northeast</td>\n",
       "      <td>279174.7900</td>\n",
       "      <td>Year</td>\n",
       "      <td>Y</td>\n",
       "      <td>Certified</td>\n",
       "    </tr>\n",
       "    <tr>\n",
       "      <th>25477</th>\n",
       "      <td>EZYV25478</td>\n",
       "      <td>Asia</td>\n",
       "      <td>Master's</td>\n",
       "      <td>Y</td>\n",
       "      <td>N</td>\n",
       "      <td>1121.0</td>\n",
       "      <td>1910.0</td>\n",
       "      <td>South</td>\n",
       "      <td>146298.8500</td>\n",
       "      <td>Year</td>\n",
       "      <td>N</td>\n",
       "      <td>Certified</td>\n",
       "    </tr>\n",
       "    <tr>\n",
       "      <th>25478</th>\n",
       "      <td>EZYV25479</td>\n",
       "      <td>Asia</td>\n",
       "      <td>Master's</td>\n",
       "      <td>Y</td>\n",
       "      <td>Y</td>\n",
       "      <td>1918.0</td>\n",
       "      <td>1887.0</td>\n",
       "      <td>West</td>\n",
       "      <td>86154.7700</td>\n",
       "      <td>Year</td>\n",
       "      <td>Y</td>\n",
       "      <td>Certified</td>\n",
       "    </tr>\n",
       "    <tr>\n",
       "      <th>25479</th>\n",
       "      <td>EZYV25480</td>\n",
       "      <td>Asia</td>\n",
       "      <td>Bachelor's</td>\n",
       "      <td>Y</td>\n",
       "      <td>N</td>\n",
       "      <td>3195.0</td>\n",
       "      <td>1960.0</td>\n",
       "      <td>Midwest</td>\n",
       "      <td>70876.9100</td>\n",
       "      <td>Year</td>\n",
       "      <td>Y</td>\n",
       "      <td>Certified</td>\n",
       "    </tr>\n",
       "  </tbody>\n",
       "</table>\n",
       "<p>25480 rows × 12 columns</p>\n",
       "</div>"
      ],
      "text/plain": [
       "         case_id continent education_of_employee has_job_experience  \\\n",
       "0         EZYV01      Asia           High School                  N   \n",
       "1         EZYV02      Asia              Master's                  Y   \n",
       "2         EZYV03      Asia            Bachelor's                  N   \n",
       "3         EZYV04      Asia            Bachelor's                  N   \n",
       "4         EZYV05    Africa              Master's                  Y   \n",
       "...          ...       ...                   ...                ...   \n",
       "25475  EZYV25476      Asia            Bachelor's                  Y   \n",
       "25476  EZYV25477      Asia           High School                  Y   \n",
       "25477  EZYV25478      Asia              Master's                  Y   \n",
       "25478  EZYV25479      Asia              Master's                  Y   \n",
       "25479  EZYV25480      Asia            Bachelor's                  Y   \n",
       "\n",
       "      requires_job_training  no_of_employees  yr_of_estab  \\\n",
       "0                         N          14513.0       2007.0   \n",
       "1                         N           2412.0       2002.0   \n",
       "2                         Y          44444.0       2008.0   \n",
       "3                         N             98.0       1897.0   \n",
       "4                         N           1082.0       2005.0   \n",
       "...                     ...              ...          ...   \n",
       "25475                     Y           2601.0       2008.0   \n",
       "25476                     N           3274.0       2006.0   \n",
       "25477                     N           1121.0       1910.0   \n",
       "25478                     Y           1918.0       1887.0   \n",
       "25479                     N           3195.0       1960.0   \n",
       "\n",
       "      region_of_employment  prevailing_wage unit_of_wage full_time_position  \\\n",
       "0                     West         592.2029         Hour                  Y   \n",
       "1                Northeast       83425.6500         Year                  Y   \n",
       "2                     West      122996.8600         Year                  Y   \n",
       "3                     West       83434.0300         Year                  Y   \n",
       "4                    South      149907.3900         Year                  Y   \n",
       "...                    ...              ...          ...                ...   \n",
       "25475                South       77092.5700         Year                  Y   \n",
       "25476            Northeast      279174.7900         Year                  Y   \n",
       "25477                South      146298.8500         Year                  N   \n",
       "25478                 West       86154.7700         Year                  Y   \n",
       "25479              Midwest       70876.9100         Year                  Y   \n",
       "\n",
       "      case_status  \n",
       "0          Denied  \n",
       "1       Certified  \n",
       "2          Denied  \n",
       "3          Denied  \n",
       "4       Certified  \n",
       "...           ...  \n",
       "25475   Certified  \n",
       "25476   Certified  \n",
       "25477   Certified  \n",
       "25478   Certified  \n",
       "25479   Certified  \n",
       "\n",
       "[25480 rows x 12 columns]"
      ]
     },
     "execution_count": 4,
     "metadata": {},
     "output_type": "execute_result"
    }
   ],
   "source": [
    "path=r\"C:\\Users\\veeranna\\DATA SCIENCE\\Data_sets\\Visadataset.xlsx\"\n",
    "visa_df=pd.read_excel(path)\n",
    "visa_df"
   ]
  },
  {
   "cell_type": "markdown",
   "id": "a4698d5b",
   "metadata": {},
   "source": [
    "$histogram$"
   ]
  },
  {
   "cell_type": "code",
   "execution_count": 9,
   "id": "1a9d5e89",
   "metadata": {},
   "outputs": [
    {
     "data": {
      "image/png": "[encoded data removed]",
      "text/plain": [
       "<Figure size 720x576 with 1 Axes>"
      ]
     },
     "metadata": {
      "needs_background": "light"
     },
     "output_type": "display_data"
    }
   ],
   "source": [
    "plt.figure(figsize=(10,8))\n",
    "plt.hist(visa_df[\"prevailing_wage\"],\n",
    "         bins=40)\n",
    "plt.show()"
   ]
  },
  {
   "cell_type": "code",
   "execution_count": 10,
   "id": "b103a815",
   "metadata": {},
   "outputs": [
    {
     "data": {
      "image/png": "[encoded data removed]",
      "text/plain": [
       "<Figure size 432x288 with 1 Axes>"
      ]
     },
     "metadata": {
      "needs_background": "light"
     },
     "output_type": "display_data"
    }
   ],
   "source": [
    "f,i,n=plt.hist(visa_df[\"prevailing_wage\"],\n",
    "         bins=40)"
   ]
  },
  {
   "cell_type": "code",
   "execution_count": 11,
   "id": "7234b2fd",
   "metadata": {},
   "outputs": [
    {
     "data": {
      "text/plain": [
       "array([2992.,  871., 1005., 1170., 1242., 1434., 1385., 1443., 1444.,\n",
       "       1445., 1457., 1335., 1268., 1217., 1088.,  978.,  807.,  645.,\n",
       "        509.,  373.,  264.,  144.,  105.,  111.,  107.,   99.,   88.,\n",
       "         79.,   65.,   64.,   58.,   53.,   33.,   33.,   29.,   19.,\n",
       "          7.,    3.,    6.,    5.])"
      ]
     },
     "execution_count": 11,
     "metadata": {},
     "output_type": "execute_result"
    }
   ],
   "source": [
    "f #frequency"
   ]
  },
  {
   "cell_type": "code",
   "execution_count": 12,
   "id": "38639448",
   "metadata": {},
   "outputs": [
    {
     "data": {
      "text/plain": [
       "array([2.13670000e+00, 7.98234003e+03, 1.59625434e+04, 2.39427467e+04,\n",
       "       3.19229500e+04, 3.99031534e+04, 4.78833567e+04, 5.58635600e+04,\n",
       "       6.38437634e+04, 7.18239667e+04, 7.98041700e+04, 8.77843734e+04,\n",
       "       9.57645767e+04, 1.03744780e+05, 1.11724983e+05, 1.19705187e+05,\n",
       "       1.27685390e+05, 1.35665593e+05, 1.43645797e+05, 1.51626000e+05,\n",
       "       1.59606203e+05, 1.67586407e+05, 1.75566610e+05, 1.83546813e+05,\n",
       "       1.91527017e+05, 1.99507220e+05, 2.07487423e+05, 2.15467627e+05,\n",
       "       2.23447830e+05, 2.31428033e+05, 2.39408237e+05, 2.47388440e+05,\n",
       "       2.55368643e+05, 2.63348847e+05, 2.71329050e+05, 2.79309253e+05,\n",
       "       2.87289457e+05, 2.95269660e+05, 3.03249863e+05, 3.11230067e+05,\n",
       "       3.19210270e+05])"
      ]
     },
     "execution_count": 12,
     "metadata": {},
     "output_type": "execute_result"
    }
   ],
   "source": [
    "i #intercel"
   ]
  },
  {
   "cell_type": "code",
   "execution_count": 13,
   "id": "306a7196",
   "metadata": {},
   "outputs": [
    {
     "data": {
      "text/plain": [
       "<BarContainer object of 40 artists>"
      ]
     },
     "execution_count": 13,
     "metadata": {},
     "output_type": "execute_result"
    }
   ],
   "source": [
    "n"
   ]
  },
  {
   "cell_type": "code",
   "execution_count": null,
   "id": "4cc33b3f",
   "metadata": {},
   "outputs": [],
   "source": [
    "between 2.13670000e+00 and 7.98234003e+03\n",
    "2992 values are there\n",
    "between 7.98234003e+03 and 1.59625434e+04\n",
    "871 values are there"
   ]
  },
  {
   "cell_type": "code",
   "execution_count": 16,
   "id": "8523369a",
   "metadata": {},
   "outputs": [
    {
     "name": "stdout",
     "output_type": "stream",
     "text": [
      "2992\n"
     ]
    },
    {
     "data": {
      "text/html": [
       "<div>\n",
       "<style scoped>\n",
       "    .dataframe tbody tr th:only-of-type {\n",
       "        vertical-align: middle;\n",
       "    }\n",
       "\n",
       "    .dataframe tbody tr th {\n",
       "        vertical-align: top;\n",
       "    }\n",
       "\n",
       "    .dataframe thead th {\n",
       "        text-align: right;\n",
       "    }\n",
       "</style>\n",
       "<table border=\"1\" class=\"dataframe\">\n",
       "  <thead>\n",
       "    <tr style=\"text-align: right;\">\n",
       "      <th></th>\n",
       "      <th>case_id</th>\n",
       "      <th>continent</th>\n",
       "      <th>education_of_employee</th>\n",
       "      <th>has_job_experience</th>\n",
       "      <th>requires_job_training</th>\n",
       "      <th>no_of_employees</th>\n",
       "      <th>yr_of_estab</th>\n",
       "      <th>region_of_employment</th>\n",
       "      <th>prevailing_wage</th>\n",
       "      <th>unit_of_wage</th>\n",
       "      <th>full_time_position</th>\n",
       "      <th>case_status</th>\n",
       "    </tr>\n",
       "  </thead>\n",
       "  <tbody>\n",
       "    <tr>\n",
       "      <th>0</th>\n",
       "      <td>EZYV01</td>\n",
       "      <td>Asia</td>\n",
       "      <td>High School</td>\n",
       "      <td>N</td>\n",
       "      <td>N</td>\n",
       "      <td>14513.0</td>\n",
       "      <td>2007.0</td>\n",
       "      <td>West</td>\n",
       "      <td>592.2029</td>\n",
       "      <td>Hour</td>\n",
       "      <td>Y</td>\n",
       "      <td>Denied</td>\n",
       "    </tr>\n",
       "    <tr>\n",
       "      <th>7</th>\n",
       "      <td>EZYV08</td>\n",
       "      <td>North America</td>\n",
       "      <td>Bachelor's</td>\n",
       "      <td>Y</td>\n",
       "      <td>N</td>\n",
       "      <td>3035.0</td>\n",
       "      <td>1924.0</td>\n",
       "      <td>West</td>\n",
       "      <td>418.2298</td>\n",
       "      <td>Hour</td>\n",
       "      <td>Y</td>\n",
       "      <td>Denied</td>\n",
       "    </tr>\n",
       "    <tr>\n",
       "      <th>16</th>\n",
       "      <td>EZYV17</td>\n",
       "      <td>Europe</td>\n",
       "      <td>Master's</td>\n",
       "      <td>Y</td>\n",
       "      <td>N</td>\n",
       "      <td>76638.0</td>\n",
       "      <td>1991.0</td>\n",
       "      <td>Midwest</td>\n",
       "      <td>3706.7900</td>\n",
       "      <td>Year</td>\n",
       "      <td>Y</td>\n",
       "      <td>Certified</td>\n",
       "    </tr>\n",
       "    <tr>\n",
       "      <th>36</th>\n",
       "      <td>EZYV37</td>\n",
       "      <td>Europe</td>\n",
       "      <td>High School</td>\n",
       "      <td>Y</td>\n",
       "      <td>N</td>\n",
       "      <td>2520.0</td>\n",
       "      <td>1981.0</td>\n",
       "      <td>West</td>\n",
       "      <td>2490.1200</td>\n",
       "      <td>Year</td>\n",
       "      <td>Y</td>\n",
       "      <td>Denied</td>\n",
       "    </tr>\n",
       "    <tr>\n",
       "      <th>54</th>\n",
       "      <td>EZYV55</td>\n",
       "      <td>Asia</td>\n",
       "      <td>Master's</td>\n",
       "      <td>Y</td>\n",
       "      <td>N</td>\n",
       "      <td>11733.0</td>\n",
       "      <td>1995.0</td>\n",
       "      <td>Northeast</td>\n",
       "      <td>230.8072</td>\n",
       "      <td>Hour</td>\n",
       "      <td>Y</td>\n",
       "      <td>Certified</td>\n",
       "    </tr>\n",
       "    <tr>\n",
       "      <th>...</th>\n",
       "      <td>...</td>\n",
       "      <td>...</td>\n",
       "      <td>...</td>\n",
       "      <td>...</td>\n",
       "      <td>...</td>\n",
       "      <td>...</td>\n",
       "      <td>...</td>\n",
       "      <td>...</td>\n",
       "      <td>...</td>\n",
       "      <td>...</td>\n",
       "      <td>...</td>\n",
       "      <td>...</td>\n",
       "    </tr>\n",
       "    <tr>\n",
       "      <th>25450</th>\n",
       "      <td>EZYV25451</td>\n",
       "      <td>Asia</td>\n",
       "      <td>Bachelor's</td>\n",
       "      <td>N</td>\n",
       "      <td>N</td>\n",
       "      <td>3312.0</td>\n",
       "      <td>2009.0</td>\n",
       "      <td>Northeast</td>\n",
       "      <td>682.1048</td>\n",
       "      <td>Hour</td>\n",
       "      <td>Y</td>\n",
       "      <td>Denied</td>\n",
       "    </tr>\n",
       "    <tr>\n",
       "      <th>25461</th>\n",
       "      <td>EZYV25462</td>\n",
       "      <td>Asia</td>\n",
       "      <td>Master's</td>\n",
       "      <td>Y</td>\n",
       "      <td>N</td>\n",
       "      <td>2861.0</td>\n",
       "      <td>2004.0</td>\n",
       "      <td>West</td>\n",
       "      <td>54.9196</td>\n",
       "      <td>Hour</td>\n",
       "      <td>Y</td>\n",
       "      <td>Denied</td>\n",
       "    </tr>\n",
       "    <tr>\n",
       "      <th>25465</th>\n",
       "      <td>EZYV25466</td>\n",
       "      <td>North America</td>\n",
       "      <td>High School</td>\n",
       "      <td>N</td>\n",
       "      <td>N</td>\n",
       "      <td>2577.0</td>\n",
       "      <td>1995.0</td>\n",
       "      <td>South</td>\n",
       "      <td>481.2238</td>\n",
       "      <td>Hour</td>\n",
       "      <td>Y</td>\n",
       "      <td>Certified</td>\n",
       "    </tr>\n",
       "    <tr>\n",
       "      <th>25466</th>\n",
       "      <td>EZYV25467</td>\n",
       "      <td>Europe</td>\n",
       "      <td>Bachelor's</td>\n",
       "      <td>Y</td>\n",
       "      <td>N</td>\n",
       "      <td>1938.0</td>\n",
       "      <td>2005.0</td>\n",
       "      <td>West</td>\n",
       "      <td>6973.4000</td>\n",
       "      <td>Year</td>\n",
       "      <td>Y</td>\n",
       "      <td>Denied</td>\n",
       "    </tr>\n",
       "    <tr>\n",
       "      <th>25470</th>\n",
       "      <td>EZYV25471</td>\n",
       "      <td>North America</td>\n",
       "      <td>Master's</td>\n",
       "      <td>Y</td>\n",
       "      <td>N</td>\n",
       "      <td>2272.0</td>\n",
       "      <td>1970.0</td>\n",
       "      <td>Northeast</td>\n",
       "      <td>516.4101</td>\n",
       "      <td>Hour</td>\n",
       "      <td>Y</td>\n",
       "      <td>Certified</td>\n",
       "    </tr>\n",
       "  </tbody>\n",
       "</table>\n",
       "<p>2992 rows × 12 columns</p>\n",
       "</div>"
      ],
      "text/plain": [
       "         case_id      continent education_of_employee has_job_experience  \\\n",
       "0         EZYV01           Asia           High School                  N   \n",
       "7         EZYV08  North America            Bachelor's                  Y   \n",
       "16        EZYV17         Europe              Master's                  Y   \n",
       "36        EZYV37         Europe           High School                  Y   \n",
       "54        EZYV55           Asia              Master's                  Y   \n",
       "...          ...            ...                   ...                ...   \n",
       "25450  EZYV25451           Asia            Bachelor's                  N   \n",
       "25461  EZYV25462           Asia              Master's                  Y   \n",
       "25465  EZYV25466  North America           High School                  N   \n",
       "25466  EZYV25467         Europe            Bachelor's                  Y   \n",
       "25470  EZYV25471  North America              Master's                  Y   \n",
       "\n",
       "      requires_job_training  no_of_employees  yr_of_estab  \\\n",
       "0                         N          14513.0       2007.0   \n",
       "7                         N           3035.0       1924.0   \n",
       "16                        N          76638.0       1991.0   \n",
       "36                        N           2520.0       1981.0   \n",
       "54                        N          11733.0       1995.0   \n",
       "...                     ...              ...          ...   \n",
       "25450                     N           3312.0       2009.0   \n",
       "25461                     N           2861.0       2004.0   \n",
       "25465                     N           2577.0       1995.0   \n",
       "25466                     N           1938.0       2005.0   \n",
       "25470                     N           2272.0       1970.0   \n",
       "\n",
       "      region_of_employment  prevailing_wage unit_of_wage full_time_position  \\\n",
       "0                     West         592.2029         Hour                  Y   \n",
       "7                     West         418.2298         Hour                  Y   \n",
       "16                 Midwest        3706.7900         Year                  Y   \n",
       "36                    West        2490.1200         Year                  Y   \n",
       "54               Northeast         230.8072         Hour                  Y   \n",
       "...                    ...              ...          ...                ...   \n",
       "25450            Northeast         682.1048         Hour                  Y   \n",
       "25461                 West          54.9196         Hour                  Y   \n",
       "25465                South         481.2238         Hour                  Y   \n",
       "25466                 West        6973.4000         Year                  Y   \n",
       "25470            Northeast         516.4101         Hour                  Y   \n",
       "\n",
       "      case_status  \n",
       "0          Denied  \n",
       "7          Denied  \n",
       "16      Certified  \n",
       "36         Denied  \n",
       "54      Certified  \n",
       "...           ...  \n",
       "25450      Denied  \n",
       "25461      Denied  \n",
       "25465   Certified  \n",
       "25466      Denied  \n",
       "25470   Certified  \n",
       "\n",
       "[2992 rows x 12 columns]"
      ]
     },
     "execution_count": 16,
     "metadata": {},
     "output_type": "execute_result"
    }
   ],
   "source": [
    "l=2.13670000e+00\n",
    "u=7.98234003e+03\n",
    "c1=visa_df[\"prevailing_wage\"]>=l\n",
    "c2=visa_df[\"prevailing_wage\"]<u\n",
    "c=c1&c2\n",
    "print(len(visa_df[c]))\n",
    "visa_df[c]"
   ]
  },
  {
   "cell_type": "code",
   "execution_count": 20,
   "id": "07274616",
   "metadata": {},
   "outputs": [
    {
     "name": "stdout",
     "output_type": "stream",
     "text": [
      "2992\n",
      "1005\n"
     ]
    }
   ],
   "source": [
    "def frequency(l,u):\n",
    "    c1=visa_df[\"prevailing_wage\"]>=l\n",
    "    c2=visa_df[\"prevailing_wage\"]<u\n",
    "    c=c1&c2\n",
    "    print(len(visa_df[c]))\n",
    "    visa_df[c]\n",
    "frequency(2.13670000e+00, 7.98234003e+03)    \n",
    "frequency(1.59625434e+04, 2.39427467e+04)"
   ]
  },
  {
   "cell_type": "code",
   "execution_count": 23,
   "id": "b1ab37bf",
   "metadata": {},
   "outputs": [
    {
     "data": {
      "text/html": [
       "<div>\n",
       "<style scoped>\n",
       "    .dataframe tbody tr th:only-of-type {\n",
       "        vertical-align: middle;\n",
       "    }\n",
       "\n",
       "    .dataframe tbody tr th {\n",
       "        vertical-align: top;\n",
       "    }\n",
       "\n",
       "    .dataframe thead th {\n",
       "        text-align: right;\n",
       "    }\n",
       "</style>\n",
       "<table border=\"1\" class=\"dataframe\">\n",
       "  <thead>\n",
       "    <tr style=\"text-align: right;\">\n",
       "      <th></th>\n",
       "      <th>lower_bound</th>\n",
       "      <th>upper_bound</th>\n",
       "      <th>frequency</th>\n",
       "    </tr>\n",
       "  </thead>\n",
       "  <tbody>\n",
       "    <tr>\n",
       "      <th>0</th>\n",
       "      <td>2.136700</td>\n",
       "      <td>7982.340033</td>\n",
       "      <td>2992.0</td>\n",
       "    </tr>\n",
       "    <tr>\n",
       "      <th>1</th>\n",
       "      <td>7982.340033</td>\n",
       "      <td>15962.543365</td>\n",
       "      <td>871.0</td>\n",
       "    </tr>\n",
       "    <tr>\n",
       "      <th>2</th>\n",
       "      <td>15962.543365</td>\n",
       "      <td>23942.746698</td>\n",
       "      <td>1005.0</td>\n",
       "    </tr>\n",
       "    <tr>\n",
       "      <th>3</th>\n",
       "      <td>23942.746698</td>\n",
       "      <td>31922.950030</td>\n",
       "      <td>1170.0</td>\n",
       "    </tr>\n",
       "    <tr>\n",
       "      <th>4</th>\n",
       "      <td>31922.950030</td>\n",
       "      <td>39903.153363</td>\n",
       "      <td>1242.0</td>\n",
       "    </tr>\n",
       "    <tr>\n",
       "      <th>5</th>\n",
       "      <td>39903.153363</td>\n",
       "      <td>47883.356695</td>\n",
       "      <td>1434.0</td>\n",
       "    </tr>\n",
       "    <tr>\n",
       "      <th>6</th>\n",
       "      <td>47883.356695</td>\n",
       "      <td>55863.560028</td>\n",
       "      <td>1385.0</td>\n",
       "    </tr>\n",
       "    <tr>\n",
       "      <th>7</th>\n",
       "      <td>55863.560028</td>\n",
       "      <td>63843.763360</td>\n",
       "      <td>1443.0</td>\n",
       "    </tr>\n",
       "    <tr>\n",
       "      <th>8</th>\n",
       "      <td>63843.763360</td>\n",
       "      <td>71823.966693</td>\n",
       "      <td>1444.0</td>\n",
       "    </tr>\n",
       "    <tr>\n",
       "      <th>9</th>\n",
       "      <td>71823.966693</td>\n",
       "      <td>79804.170025</td>\n",
       "      <td>1445.0</td>\n",
       "    </tr>\n",
       "    <tr>\n",
       "      <th>10</th>\n",
       "      <td>79804.170025</td>\n",
       "      <td>87784.373358</td>\n",
       "      <td>1457.0</td>\n",
       "    </tr>\n",
       "    <tr>\n",
       "      <th>11</th>\n",
       "      <td>87784.373358</td>\n",
       "      <td>95764.576690</td>\n",
       "      <td>1335.0</td>\n",
       "    </tr>\n",
       "    <tr>\n",
       "      <th>12</th>\n",
       "      <td>95764.576690</td>\n",
       "      <td>103744.780023</td>\n",
       "      <td>1268.0</td>\n",
       "    </tr>\n",
       "    <tr>\n",
       "      <th>13</th>\n",
       "      <td>103744.780023</td>\n",
       "      <td>111724.983355</td>\n",
       "      <td>1217.0</td>\n",
       "    </tr>\n",
       "    <tr>\n",
       "      <th>14</th>\n",
       "      <td>111724.983355</td>\n",
       "      <td>119705.186688</td>\n",
       "      <td>1088.0</td>\n",
       "    </tr>\n",
       "    <tr>\n",
       "      <th>15</th>\n",
       "      <td>119705.186688</td>\n",
       "      <td>127685.390020</td>\n",
       "      <td>978.0</td>\n",
       "    </tr>\n",
       "    <tr>\n",
       "      <th>16</th>\n",
       "      <td>127685.390020</td>\n",
       "      <td>135665.593353</td>\n",
       "      <td>807.0</td>\n",
       "    </tr>\n",
       "    <tr>\n",
       "      <th>17</th>\n",
       "      <td>135665.593353</td>\n",
       "      <td>143645.796685</td>\n",
       "      <td>645.0</td>\n",
       "    </tr>\n",
       "    <tr>\n",
       "      <th>18</th>\n",
       "      <td>143645.796685</td>\n",
       "      <td>151626.000018</td>\n",
       "      <td>509.0</td>\n",
       "    </tr>\n",
       "    <tr>\n",
       "      <th>19</th>\n",
       "      <td>151626.000018</td>\n",
       "      <td>159606.203350</td>\n",
       "      <td>373.0</td>\n",
       "    </tr>\n",
       "    <tr>\n",
       "      <th>20</th>\n",
       "      <td>159606.203350</td>\n",
       "      <td>167586.406683</td>\n",
       "      <td>264.0</td>\n",
       "    </tr>\n",
       "    <tr>\n",
       "      <th>21</th>\n",
       "      <td>167586.406683</td>\n",
       "      <td>175566.610015</td>\n",
       "      <td>144.0</td>\n",
       "    </tr>\n",
       "    <tr>\n",
       "      <th>22</th>\n",
       "      <td>175566.610015</td>\n",
       "      <td>183546.813348</td>\n",
       "      <td>105.0</td>\n",
       "    </tr>\n",
       "    <tr>\n",
       "      <th>23</th>\n",
       "      <td>183546.813348</td>\n",
       "      <td>191527.016680</td>\n",
       "      <td>111.0</td>\n",
       "    </tr>\n",
       "    <tr>\n",
       "      <th>24</th>\n",
       "      <td>191527.016680</td>\n",
       "      <td>199507.220013</td>\n",
       "      <td>107.0</td>\n",
       "    </tr>\n",
       "    <tr>\n",
       "      <th>25</th>\n",
       "      <td>199507.220013</td>\n",
       "      <td>207487.423345</td>\n",
       "      <td>99.0</td>\n",
       "    </tr>\n",
       "    <tr>\n",
       "      <th>26</th>\n",
       "      <td>207487.423345</td>\n",
       "      <td>215467.626678</td>\n",
       "      <td>88.0</td>\n",
       "    </tr>\n",
       "    <tr>\n",
       "      <th>27</th>\n",
       "      <td>215467.626678</td>\n",
       "      <td>223447.830010</td>\n",
       "      <td>79.0</td>\n",
       "    </tr>\n",
       "    <tr>\n",
       "      <th>28</th>\n",
       "      <td>223447.830010</td>\n",
       "      <td>231428.033343</td>\n",
       "      <td>65.0</td>\n",
       "    </tr>\n",
       "    <tr>\n",
       "      <th>29</th>\n",
       "      <td>231428.033343</td>\n",
       "      <td>239408.236675</td>\n",
       "      <td>64.0</td>\n",
       "    </tr>\n",
       "    <tr>\n",
       "      <th>30</th>\n",
       "      <td>239408.236675</td>\n",
       "      <td>247388.440008</td>\n",
       "      <td>58.0</td>\n",
       "    </tr>\n",
       "    <tr>\n",
       "      <th>31</th>\n",
       "      <td>247388.440008</td>\n",
       "      <td>255368.643340</td>\n",
       "      <td>53.0</td>\n",
       "    </tr>\n",
       "    <tr>\n",
       "      <th>32</th>\n",
       "      <td>255368.643340</td>\n",
       "      <td>263348.846673</td>\n",
       "      <td>33.0</td>\n",
       "    </tr>\n",
       "    <tr>\n",
       "      <th>33</th>\n",
       "      <td>263348.846673</td>\n",
       "      <td>271329.050005</td>\n",
       "      <td>33.0</td>\n",
       "    </tr>\n",
       "    <tr>\n",
       "      <th>34</th>\n",
       "      <td>271329.050005</td>\n",
       "      <td>279309.253338</td>\n",
       "      <td>29.0</td>\n",
       "    </tr>\n",
       "    <tr>\n",
       "      <th>35</th>\n",
       "      <td>279309.253338</td>\n",
       "      <td>287289.456670</td>\n",
       "      <td>19.0</td>\n",
       "    </tr>\n",
       "    <tr>\n",
       "      <th>36</th>\n",
       "      <td>287289.456670</td>\n",
       "      <td>295269.660002</td>\n",
       "      <td>7.0</td>\n",
       "    </tr>\n",
       "    <tr>\n",
       "      <th>37</th>\n",
       "      <td>295269.660002</td>\n",
       "      <td>303249.863335</td>\n",
       "      <td>3.0</td>\n",
       "    </tr>\n",
       "    <tr>\n",
       "      <th>38</th>\n",
       "      <td>303249.863335</td>\n",
       "      <td>311230.066668</td>\n",
       "      <td>6.0</td>\n",
       "    </tr>\n",
       "    <tr>\n",
       "      <th>39</th>\n",
       "      <td>311230.066668</td>\n",
       "      <td>319210.270000</td>\n",
       "      <td>5.0</td>\n",
       "    </tr>\n",
       "  </tbody>\n",
       "</table>\n",
       "</div>"
      ],
      "text/plain": [
       "      lower_bound    upper_bound  frequency\n",
       "0        2.136700    7982.340033     2992.0\n",
       "1     7982.340033   15962.543365      871.0\n",
       "2    15962.543365   23942.746698     1005.0\n",
       "3    23942.746698   31922.950030     1170.0\n",
       "4    31922.950030   39903.153363     1242.0\n",
       "5    39903.153363   47883.356695     1434.0\n",
       "6    47883.356695   55863.560028     1385.0\n",
       "7    55863.560028   63843.763360     1443.0\n",
       "8    63843.763360   71823.966693     1444.0\n",
       "9    71823.966693   79804.170025     1445.0\n",
       "10   79804.170025   87784.373358     1457.0\n",
       "11   87784.373358   95764.576690     1335.0\n",
       "12   95764.576690  103744.780023     1268.0\n",
       "13  103744.780023  111724.983355     1217.0\n",
       "14  111724.983355  119705.186688     1088.0\n",
       "15  119705.186688  127685.390020      978.0\n",
       "16  127685.390020  135665.593353      807.0\n",
       "17  135665.593353  143645.796685      645.0\n",
       "18  143645.796685  151626.000018      509.0\n",
       "19  151626.000018  159606.203350      373.0\n",
       "20  159606.203350  167586.406683      264.0\n",
       "21  167586.406683  175566.610015      144.0\n",
       "22  175566.610015  183546.813348      105.0\n",
       "23  183546.813348  191527.016680      111.0\n",
       "24  191527.016680  199507.220013      107.0\n",
       "25  199507.220013  207487.423345       99.0\n",
       "26  207487.423345  215467.626678       88.0\n",
       "27  215467.626678  223447.830010       79.0\n",
       "28  223447.830010  231428.033343       65.0\n",
       "29  231428.033343  239408.236675       64.0\n",
       "30  239408.236675  247388.440008       58.0\n",
       "31  247388.440008  255368.643340       53.0\n",
       "32  255368.643340  263348.846673       33.0\n",
       "33  263348.846673  271329.050005       33.0\n",
       "34  271329.050005  279309.253338       29.0\n",
       "35  279309.253338  287289.456670       19.0\n",
       "36  287289.456670  295269.660002        7.0\n",
       "37  295269.660002  303249.863335        3.0\n",
       "38  303249.863335  311230.066668        6.0\n",
       "39  311230.066668  319210.270000        5.0"
      ]
     },
     "execution_count": 23,
     "metadata": {},
     "output_type": "execute_result"
    }
   ],
   "source": [
    "#task-1\n",
    "#create a data frame \n",
    "# lower upper frequency\n",
    "# 2.136 7.98    2992\n",
    "l1,l2=[],[]\n",
    "for val in range(len(i)-1):\n",
    "    if val==len(i):\n",
    "        break\n",
    "    else:\n",
    "        l1.append(i[val])\n",
    "        l2.append(i[val+1])\n",
    "visa_df_lbub=pd.DataFrame(zip(l1,l2),columns=[\"lower_bound\",\"upper_bound\"])  \n",
    "visa_df_lbub[\"frequency\"]=f\n",
    "visa_df_lbub"
   ]
  },
  {
   "cell_type": "code",
   "execution_count": 25,
   "id": "e2ed0e32",
   "metadata": {},
   "outputs": [
    {
     "data": {
      "image/png": "[encoded data removed]",
      "text/plain": [
       "<Figure size 720x576 with 1 Axes>"
      ]
     },
     "metadata": {
      "needs_background": "light"
     },
     "output_type": "display_data"
    }
   ],
   "source": [
    "#task-2\n",
    "#in seaborn how to plot histogram\n",
    "plt.figure(figsize=(10,8))\n",
    "sns.histplot(visa_df[\"prevailing_wage\"])\n",
    "plt.show()"
   ]
  },
  {
   "cell_type": "markdown",
   "id": "e3098c33",
   "metadata": {},
   "source": [
    "$Boxplot$\n",
    "- Boxplot is used to indentify the outliers\n",
    "- in boxplot we have \n",
    "  - Q1:25p value\n",
    "  - Q2:50p value\n",
    "  - q3:75p value\n",
    "  -IQR: Q3-Q1\n",
    "  -mild outlires Q1-1.5*IQR and Q3+1.5*IQR\n",
    "  -huge outlires Q1-3*IQR and Q3+3*IQR"
   ]
  },
  {
   "cell_type": "code",
   "execution_count": 26,
   "id": "c45757cd",
   "metadata": {},
   "outputs": [
    {
     "data": {
      "image/png": "[encoded data removed]",
      "text/plain": [
       "<Figure size 432x288 with 1 Axes>"
      ]
     },
     "metadata": {
      "needs_background": "light"
     },
     "output_type": "display_data"
    }
   ],
   "source": [
    "plt.boxplot(visa_df[\"prevailing_wage\"])\n",
    "plt.show()\n",
    "#black dots are outliers\n",
    "#orange line is median"
   ]
  },
  {
   "cell_type": "code",
   "execution_count": 29,
   "id": "f2a53423",
   "metadata": {},
   "outputs": [
    {
     "data": {
      "image/png": "[encoded data removed]",
      "text/plain": [
       "<Figure size 432x288 with 1 Axes>"
      ]
     },
     "metadata": {
      "needs_background": "light"
     },
     "output_type": "display_data"
    }
   ],
   "source": [
    "plt.boxplot(visa_df[\"prevailing_wage\"],vert=False)\n",
    "plt.show()"
   ]
  },
  {
   "cell_type": "code",
   "execution_count": null,
   "id": "913d049b",
   "metadata": {},
   "outputs": [],
   "source": []
  }
 ],
 "metadata": {
  "kernelspec": {
   "display_name": "Python 3 (ipykernel)",
   "language": "python",
   "name": "python3"
  },
  "language_info": {
   "codemirror_mode": {
    "name": "ipython",
    "version": 3
   },
   "file_extension": ".py",
   "mimetype": "text/x-python",
   "name": "python",
   "nbconvert_exporter": "python",
   "pygments_lexer": "ipython3",
   "version": "3.9.7"
  }
 },
 "nbformat": 4,
 "nbformat_minor": 5
}
